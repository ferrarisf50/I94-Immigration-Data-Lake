{
 "cells": [
  {
   "cell_type": "code",
   "execution_count": 5,
   "metadata": {
    "editable": true
   },
   "outputs": [],
   "source": [
    "import boto3\n",
    "import configparser\n",
    "import os\n"
   ]
  },
  {
   "cell_type": "code",
   "execution_count": 6,
   "metadata": {
    "editable": true
   },
   "outputs": [],
   "source": [
    "config = configparser.ConfigParser()\n",
    "config.read(r'dl.cfg')\n",
    "\n",
    "\n",
    "bucket = config.get('S3','bucket') "
   ]
  },
  {
   "cell_type": "code",
   "execution_count": 8,
   "metadata": {
    "editable": true
   },
   "outputs": [],
   "source": [
    "s3 = boto3.client('s3',\n",
    "                  region_name = 'us-east-1',\n",
    "                 aws_access_key_id = config.get('AWS','AWS_ACCESS_KEY_ID'),\n",
    "                 aws_secret_access_key = config.get('AWS','AWS_SECRET_ACCESS_KEY'))\n",
    "\n"
   ]
  },
  {
   "cell_type": "code",
   "execution_count": 15,
   "metadata": {
    "editable": true
   },
   "outputs": [],
   "source": [
    "def get_file_names(bucket_name,prefix):\n",
    "    \"\"\"\n",
    "    Return the file name in an S3 bucket folder.\n",
    "\n",
    "    INPUT:\n",
    "    bucket - Name of the S3 bucket.\n",
    "    patten: key patten, for example file extension.\n",
    "    \"\"\"\n",
    "    s3_client = boto3.client('s3')\n",
    "    objs = s3_client.list_objects_v2(Bucket=bucket_name)['Contents']\n",
    "    shortlisted_files = list        \n",
    "    for obj in objs:\n",
    "        key = obj['Key']\n",
    "        timestamp = obj['LastModified']\n",
    "        # if key starts with folder name retrieve that key\n",
    "        if prefix in key:              \n",
    "            # Adding a new key value pair\n",
    "            shortlisted_files.append(key)   \n",
    "    return shortlisted_files"
   ]
  },
  {
   "cell_type": "code",
   "execution_count": 17,
   "metadata": {
    "editable": true
   },
   "outputs": [
    {
     "data": {
      "text/plain": [
       "{'i94/data/i94_apr16_sub.sas7bdat': datetime.datetime(2020, 3, 25, 16, 48, 25, tzinfo=tzlocal()),\n",
       " 'i94/data/i94_aug16_sub.sas7bdat': datetime.datetime(2020, 3, 25, 16, 49, 4, tzinfo=tzlocal()),\n",
       " 'i94/data/i94_dec16_sub.sas7bdat': datetime.datetime(2020, 3, 25, 16, 49, 54, tzinfo=tzlocal()),\n",
       " 'i94/data/i94_feb16_sub.sas7bdat': datetime.datetime(2020, 3, 25, 16, 49, 50, tzinfo=tzlocal()),\n",
       " 'i94/data/i94_jan16_sub.sas7bdat': datetime.datetime(2020, 3, 25, 16, 49, 26, tzinfo=tzlocal()),\n",
       " 'i94/data/i94_jul16_sub.sas7bdat': datetime.datetime(2020, 3, 25, 16, 49, 37, tzinfo=tzlocal()),\n",
       " 'i94/data/i94_jun16_sub.sas7bdat': datetime.datetime(2020, 3, 25, 16, 48, 56, tzinfo=tzlocal()),\n",
       " 'i94/data/i94_mar16_sub.sas7bdat': datetime.datetime(2020, 3, 25, 16, 48, 45, tzinfo=tzlocal()),\n",
       " 'i94/data/i94_may16_sub.sas7bdat': datetime.datetime(2020, 3, 25, 16, 49, 20, tzinfo=tzlocal()),\n",
       " 'i94/data/i94_nov16_sub.sas7bdat': datetime.datetime(2020, 3, 25, 16, 48, 37, tzinfo=tzlocal()),\n",
       " 'i94/data/i94_oct16_sub.sas7bdat': datetime.datetime(2020, 3, 25, 16, 49, 31, tzinfo=tzlocal()),\n",
       " 'i94/data/i94_sep16_sub.sas7bdat': datetime.datetime(2020, 3, 25, 16, 48, 31, tzinfo=tzlocal())}"
      ]
     },
     "execution_count": 17,
     "metadata": {},
     "output_type": "execute_result"
    }
   ],
   "source": [
    "get_file_names(bucket,'.sas7bdat')"
   ]
  },
  {
   "cell_type": "code",
   "execution_count": 22,
   "metadata": {
    "editable": true
   },
   "outputs": [
    {
     "name": "stdout",
     "output_type": "stream",
     "text": [
      "['i94/data/i94_apr16_sub.sas7bdat', 'i94/data/i94_aug16_sub.sas7bdat', 'i94/data/i94_dec16_sub.sas7bdat', 'i94/data/i94_feb16_sub.sas7bdat', 'i94/data/i94_jan16_sub.sas7bdat', 'i94/data/i94_jul16_sub.sas7bdat', 'i94/data/i94_jun16_sub.sas7bdat', 'i94/data/i94_mar16_sub.sas7bdat', 'i94/data/i94_may16_sub.sas7bdat', 'i94/data/i94_nov16_sub.sas7bdat', 'i94/data/i94_oct16_sub.sas7bdat', 'i94/data/i94_sep16_sub.sas7bdat']\n"
     ]
    }
   ],
   "source": [
    "objs = s3.list_objects_v2(Bucket=bucket)['Contents']\n",
    "li=[]       \n",
    "for obj in objs:\n",
    "    if '.sas7bdat' in  obj['Key'] and obj['Key'].startswith('i94/data/i94_'):\n",
    "        li.append(obj['Key'])\n",
    "print(li)      "
   ]
  },
  {
   "cell_type": "code",
   "execution_count": null,
   "metadata": {
    "editable": true
   },
   "outputs": [],
   "source": []
  }
 ],
 "metadata": {
  "kernelspec": {
   "display_name": "Python 3",
   "language": "python",
   "name": "python3"
  },
  "language_info": {
   "codemirror_mode": {
    "name": "ipython",
    "version": 3
   },
   "file_extension": ".py",
   "mimetype": "text/x-python",
   "name": "python",
   "nbconvert_exporter": "python",
   "pygments_lexer": "ipython3",
   "version": "3.6.3"
  }
 },
 "nbformat": 4,
 "nbformat_minor": 4
}
