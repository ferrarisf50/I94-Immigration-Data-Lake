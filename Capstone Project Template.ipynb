{
 "cells": [
  {
   "cell_type": "markdown",
   "metadata": {
    "editable": true
   },
   "source": [
    "# US I94 Immigration Data Lake\n",
    "### Data Engineering Capstone Project\n",
    "\n",
    "#### Project Summary\n",
    "\n",
    "When entering the United States as a foreign visitor, the Customs Border Protection (CBP) officer examines your passpord and visa, then issues a small card called the Form I-94. This form, also named “Arrival/Departure Record”, is evidence of a nonimmigrant’s term of admission and used to document legal status in the United States, including length of stay and departure. \n",
    "\n",
    "The purpose of this project is to build an ETL pipeline that gathers all information about I94 records into a data lake allowing statistician and data scientist to be able to perform ad hoc data analysis and machine learning using the data. \n",
    "\n",
    "\n",
    "References:\n",
    "\n",
    "https://www.uscis.gov/I-94information<br>\n",
    "https://studyinthestates.dhs.gov/student-forms?form=Form_I-94\n",
    "\n",
    "The project follows the follow steps:\n",
    "* Step 1: Scope the Project and Gather Data\n",
    "* Step 2: Explore and Assess the Data\n",
    "* Step 3: Define the Data Model\n",
    "* Step 4: Run ETL to Model the Data\n",
    "* Step 5: Complete Project Write Up"
   ]
  },
  {
   "cell_type": "code",
   "execution_count": 2,
   "metadata": {
    "editable": true
   },
   "outputs": [],
   "source": [
    "# Do all imports and installs here\n",
    "import pandas as pd\n",
    "import os\n",
    "from pyspark.sql import SparkSession\n",
    "from pyspark.sql.functions import udf, col\n",
    "from datetime import datetime, timedelta\n",
    "import configparser\n",
    "import numpy as np\n",
    "from pyspark.sql.functions import year, month, dayofmonth, hour, weekofyear, date_format\n",
    "import re\n",
    "\n",
    "pd.set_option(\"max_colwidth\",1000000)\n",
    "pd.set_option('max_columns', 15000)"
   ]
  },
  {
   "cell_type": "markdown",
   "metadata": {
    "editable": true
   },
   "source": [
    "### Step 1: Scope the Project and Gather Data\n",
    "\n",
    "#### Scope \n",
    "Explain what you plan to do in the project in more detail. What data do you use? What is your end solution look like? What tools did you use? etc>\n",
    "\n",
    "The main dataset to be used in this project is the I94 immigration data provided by the US National Tourism and Trade Office. There are about 3 million I94 records being collected each month. To start up, I only consider the dataset from APRIL 2016, once the ETL went smoothly, I would like to ingest more data. All datasets exist in the workspace provided by Udacity, firstly I will upload all datasets onto Amazon S3. To process this big data, I would choose Spark to load data from S3, then manipulate and transform the data, finally store the output parquet format data back to S3. All data processing ETL will be deployed to Amazon EMR.   \n",
    "\n",
    "These datasets will be collected, I will explore these datasets to determine whether they will be included in the data lake:\n",
    "1. I94 Imigration Data in 2016\n",
    "2. IATA Airlines codes\n",
    "3. World Temperature Data\n",
    "4. U.S. City Demographic Data\n",
    "5. Airport Code Table\n",
    "6. Code List of I94 Immigration Data\n",
    "\n",
    "\n",
    "\n",
    "\n",
    "#### Describe and Gather Data \n",
    "Describe the data sets you're using. Where did it come from? What type of information is included? \n",
    "\n",
    "I94 Immigration Data in 2016: This data comes from the US National Tourism and Trade Office. [This](https://travel.trade.gov/research/reports/i94/historical/2016.html) is where the data comes from. This data is stored in 12 SAS tables of which each represents the month when the record was collected. Each table has about 3 million records. To test the ETL pipeline, we just use the table from April 2016.\n",
    "\n",
    "World Temperature Data: This dataset came from Kaggle. You can read more about it [here](https://travel.trade.gov/research/reports/i94/historical/2016.html). This data is in a csv format\n",
    "\n",
    "U.S. City Demographic Data: This data comes from OpenSoft. You can read more about it [here](https://public.opendatasoft.com/explore/dataset/us-cities-demographics/export/). This data is in a csv format\n",
    "\n",
    "Airport Code Table: This is a simple table of airport codes and corresponding cities. It comes from [here](https://datahub.io/core/airport-codes#data).\n",
    "\n",
    "FMTOUT.csv: This file is generated from output_format.sas. It contains the code list of i94visa, i94mode, i94cit, i94res, i94addr, i94port\n",
    "\n",
    "IATA Airlines Code: A dataset showing the IATA airline members, including the airline code and details. [Here]\n",
    "(https://www.kaggle.com/guillaumekofi/iata-current-airline-members-2019#iata_airlines.csv) is where the data comes from."
   ]
  },
  {
   "cell_type": "markdown",
   "metadata": {
    "editable": true
   },
   "source": [
    "#### I94 Immigration Data"
   ]
  },
  {
   "cell_type": "code",
   "execution_count": 3,
   "metadata": {
    "editable": true
   },
   "outputs": [
    {
     "name": "stdout",
     "output_type": "stream",
     "text": [
      "i94_apr16_sub.sas7bdat\n",
      "i94_sep16_sub.sas7bdat\n",
      "i94_nov16_sub.sas7bdat\n",
      "i94_mar16_sub.sas7bdat\n",
      "i94_jun16_sub.sas7bdat\n",
      "i94_aug16_sub.sas7bdat\n",
      "i94_may16_sub.sas7bdat\n",
      "i94_jan16_sub.sas7bdat\n",
      "i94_oct16_sub.sas7bdat\n",
      "i94_jul16_sub.sas7bdat\n",
      "i94_feb16_sub.sas7bdat\n",
      "i94_dec16_sub.sas7bdat\n"
     ]
    }
   ],
   "source": [
    "# List all 12 I94 tables in 2016\n",
    "for i in os.listdir('../../data/18-83510-I94-Data-2016/'):\n",
    "    print(i)"
   ]
  },
  {
   "cell_type": "code",
   "execution_count": 4,
   "metadata": {
    "editable": true
   },
   "outputs": [],
   "source": [
    "# Read in the I94 data here\n",
    "fname = '../../data/18-83510-I94-Data-2016/i94_apr16_sub.sas7bdat'\n",
    "i94 = pd.read_sas(fname, 'sas7bdat', encoding=\"ISO-8859-1\")"
   ]
  },
  {
   "cell_type": "code",
   "execution_count": 5,
   "metadata": {
    "editable": true
   },
   "outputs": [
    {
     "data": {
      "text/plain": [
       "(3096313, 28)"
      ]
     },
     "execution_count": 5,
     "metadata": {},
     "output_type": "execute_result"
    }
   ],
   "source": [
    "i94.shape"
   ]
  },
  {
   "cell_type": "code",
   "execution_count": 6,
   "metadata": {
    "editable": true
   },
   "outputs": [
    {
     "data": {
      "text/html": [
       "<div>\n",
       "<style scoped>\n",
       "    .dataframe tbody tr th:only-of-type {\n",
       "        vertical-align: middle;\n",
       "    }\n",
       "\n",
       "    .dataframe tbody tr th {\n",
       "        vertical-align: top;\n",
       "    }\n",
       "\n",
       "    .dataframe thead th {\n",
       "        text-align: right;\n",
       "    }\n",
       "</style>\n",
       "<table border=\"1\" class=\"dataframe\">\n",
       "  <thead>\n",
       "    <tr style=\"text-align: right;\">\n",
       "      <th></th>\n",
       "      <th>cicid</th>\n",
       "      <th>i94yr</th>\n",
       "      <th>i94mon</th>\n",
       "      <th>i94cit</th>\n",
       "      <th>i94res</th>\n",
       "      <th>i94port</th>\n",
       "      <th>arrdate</th>\n",
       "      <th>i94mode</th>\n",
       "      <th>i94addr</th>\n",
       "      <th>depdate</th>\n",
       "      <th>i94bir</th>\n",
       "      <th>i94visa</th>\n",
       "      <th>count</th>\n",
       "      <th>dtadfile</th>\n",
       "      <th>visapost</th>\n",
       "      <th>occup</th>\n",
       "      <th>entdepa</th>\n",
       "      <th>entdepd</th>\n",
       "      <th>entdepu</th>\n",
       "      <th>matflag</th>\n",
       "      <th>biryear</th>\n",
       "      <th>dtaddto</th>\n",
       "      <th>gender</th>\n",
       "      <th>insnum</th>\n",
       "      <th>airline</th>\n",
       "      <th>admnum</th>\n",
       "      <th>fltno</th>\n",
       "      <th>visatype</th>\n",
       "    </tr>\n",
       "  </thead>\n",
       "  <tbody>\n",
       "    <tr>\n",
       "      <th>0</th>\n",
       "      <td>6.0</td>\n",
       "      <td>2016.0</td>\n",
       "      <td>4.0</td>\n",
       "      <td>692.0</td>\n",
       "      <td>692.0</td>\n",
       "      <td>XXX</td>\n",
       "      <td>20573.0</td>\n",
       "      <td>NaN</td>\n",
       "      <td>NaN</td>\n",
       "      <td>NaN</td>\n",
       "      <td>37.0</td>\n",
       "      <td>2.0</td>\n",
       "      <td>1.0</td>\n",
       "      <td>NaN</td>\n",
       "      <td>NaN</td>\n",
       "      <td>NaN</td>\n",
       "      <td>T</td>\n",
       "      <td>NaN</td>\n",
       "      <td>U</td>\n",
       "      <td>NaN</td>\n",
       "      <td>1979.0</td>\n",
       "      <td>10282016</td>\n",
       "      <td>NaN</td>\n",
       "      <td>NaN</td>\n",
       "      <td>NaN</td>\n",
       "      <td>1.897628e+09</td>\n",
       "      <td>NaN</td>\n",
       "      <td>B2</td>\n",
       "    </tr>\n",
       "    <tr>\n",
       "      <th>1</th>\n",
       "      <td>7.0</td>\n",
       "      <td>2016.0</td>\n",
       "      <td>4.0</td>\n",
       "      <td>254.0</td>\n",
       "      <td>276.0</td>\n",
       "      <td>ATL</td>\n",
       "      <td>20551.0</td>\n",
       "      <td>1.0</td>\n",
       "      <td>AL</td>\n",
       "      <td>NaN</td>\n",
       "      <td>25.0</td>\n",
       "      <td>3.0</td>\n",
       "      <td>1.0</td>\n",
       "      <td>20130811</td>\n",
       "      <td>SEO</td>\n",
       "      <td>NaN</td>\n",
       "      <td>G</td>\n",
       "      <td>NaN</td>\n",
       "      <td>Y</td>\n",
       "      <td>NaN</td>\n",
       "      <td>1991.0</td>\n",
       "      <td>D/S</td>\n",
       "      <td>M</td>\n",
       "      <td>NaN</td>\n",
       "      <td>NaN</td>\n",
       "      <td>3.736796e+09</td>\n",
       "      <td>00296</td>\n",
       "      <td>F1</td>\n",
       "    </tr>\n",
       "    <tr>\n",
       "      <th>2</th>\n",
       "      <td>15.0</td>\n",
       "      <td>2016.0</td>\n",
       "      <td>4.0</td>\n",
       "      <td>101.0</td>\n",
       "      <td>101.0</td>\n",
       "      <td>WAS</td>\n",
       "      <td>20545.0</td>\n",
       "      <td>1.0</td>\n",
       "      <td>MI</td>\n",
       "      <td>20691.0</td>\n",
       "      <td>55.0</td>\n",
       "      <td>2.0</td>\n",
       "      <td>1.0</td>\n",
       "      <td>20160401</td>\n",
       "      <td>NaN</td>\n",
       "      <td>NaN</td>\n",
       "      <td>T</td>\n",
       "      <td>O</td>\n",
       "      <td>NaN</td>\n",
       "      <td>M</td>\n",
       "      <td>1961.0</td>\n",
       "      <td>09302016</td>\n",
       "      <td>M</td>\n",
       "      <td>NaN</td>\n",
       "      <td>OS</td>\n",
       "      <td>6.666432e+08</td>\n",
       "      <td>93</td>\n",
       "      <td>B2</td>\n",
       "    </tr>\n",
       "    <tr>\n",
       "      <th>3</th>\n",
       "      <td>16.0</td>\n",
       "      <td>2016.0</td>\n",
       "      <td>4.0</td>\n",
       "      <td>101.0</td>\n",
       "      <td>101.0</td>\n",
       "      <td>NYC</td>\n",
       "      <td>20545.0</td>\n",
       "      <td>1.0</td>\n",
       "      <td>MA</td>\n",
       "      <td>20567.0</td>\n",
       "      <td>28.0</td>\n",
       "      <td>2.0</td>\n",
       "      <td>1.0</td>\n",
       "      <td>20160401</td>\n",
       "      <td>NaN</td>\n",
       "      <td>NaN</td>\n",
       "      <td>O</td>\n",
       "      <td>O</td>\n",
       "      <td>NaN</td>\n",
       "      <td>M</td>\n",
       "      <td>1988.0</td>\n",
       "      <td>09302016</td>\n",
       "      <td>NaN</td>\n",
       "      <td>NaN</td>\n",
       "      <td>AA</td>\n",
       "      <td>9.246846e+10</td>\n",
       "      <td>00199</td>\n",
       "      <td>B2</td>\n",
       "    </tr>\n",
       "    <tr>\n",
       "      <th>4</th>\n",
       "      <td>17.0</td>\n",
       "      <td>2016.0</td>\n",
       "      <td>4.0</td>\n",
       "      <td>101.0</td>\n",
       "      <td>101.0</td>\n",
       "      <td>NYC</td>\n",
       "      <td>20545.0</td>\n",
       "      <td>1.0</td>\n",
       "      <td>MA</td>\n",
       "      <td>20567.0</td>\n",
       "      <td>4.0</td>\n",
       "      <td>2.0</td>\n",
       "      <td>1.0</td>\n",
       "      <td>20160401</td>\n",
       "      <td>NaN</td>\n",
       "      <td>NaN</td>\n",
       "      <td>O</td>\n",
       "      <td>O</td>\n",
       "      <td>NaN</td>\n",
       "      <td>M</td>\n",
       "      <td>2012.0</td>\n",
       "      <td>09302016</td>\n",
       "      <td>NaN</td>\n",
       "      <td>NaN</td>\n",
       "      <td>AA</td>\n",
       "      <td>9.246846e+10</td>\n",
       "      <td>00199</td>\n",
       "      <td>B2</td>\n",
       "    </tr>\n",
       "  </tbody>\n",
       "</table>\n",
       "</div>"
      ],
      "text/plain": [
       "   cicid   i94yr  i94mon  i94cit  i94res i94port  arrdate  i94mode i94addr  \\\n",
       "0    6.0  2016.0     4.0   692.0   692.0     XXX  20573.0      NaN     NaN   \n",
       "1    7.0  2016.0     4.0   254.0   276.0     ATL  20551.0      1.0      AL   \n",
       "2   15.0  2016.0     4.0   101.0   101.0     WAS  20545.0      1.0      MI   \n",
       "3   16.0  2016.0     4.0   101.0   101.0     NYC  20545.0      1.0      MA   \n",
       "4   17.0  2016.0     4.0   101.0   101.0     NYC  20545.0      1.0      MA   \n",
       "\n",
       "   depdate  i94bir  i94visa  count  dtadfile visapost occup entdepa entdepd  \\\n",
       "0      NaN    37.0      2.0    1.0       NaN      NaN   NaN       T     NaN   \n",
       "1      NaN    25.0      3.0    1.0  20130811      SEO   NaN       G     NaN   \n",
       "2  20691.0    55.0      2.0    1.0  20160401      NaN   NaN       T       O   \n",
       "3  20567.0    28.0      2.0    1.0  20160401      NaN   NaN       O       O   \n",
       "4  20567.0     4.0      2.0    1.0  20160401      NaN   NaN       O       O   \n",
       "\n",
       "  entdepu matflag  biryear   dtaddto gender insnum airline        admnum  \\\n",
       "0       U     NaN   1979.0  10282016    NaN    NaN     NaN  1.897628e+09   \n",
       "1       Y     NaN   1991.0       D/S      M    NaN     NaN  3.736796e+09   \n",
       "2     NaN       M   1961.0  09302016      M    NaN      OS  6.666432e+08   \n",
       "3     NaN       M   1988.0  09302016    NaN    NaN      AA  9.246846e+10   \n",
       "4     NaN       M   2012.0  09302016    NaN    NaN      AA  9.246846e+10   \n",
       "\n",
       "   fltno visatype  \n",
       "0    NaN       B2  \n",
       "1  00296       F1  \n",
       "2     93       B2  \n",
       "3  00199       B2  \n",
       "4  00199       B2  "
      ]
     },
     "execution_count": 6,
     "metadata": {},
     "output_type": "execute_result"
    }
   ],
   "source": [
    "i94.head(5)"
   ]
  },
  {
   "cell_type": "code",
   "execution_count": 7,
   "metadata": {
    "editable": true
   },
   "outputs": [
    {
     "name": "stdout",
     "output_type": "stream",
     "text": [
      "<class 'pandas.core.frame.DataFrame'>\n",
      "RangeIndex: 3096313 entries, 0 to 3096312\n",
      "Data columns (total 28 columns):\n",
      "cicid       float64\n",
      "i94yr       float64\n",
      "i94mon      float64\n",
      "i94cit      float64\n",
      "i94res      float64\n",
      "i94port     object\n",
      "arrdate     float64\n",
      "i94mode     float64\n",
      "i94addr     object\n",
      "depdate     float64\n",
      "i94bir      float64\n",
      "i94visa     float64\n",
      "count       float64\n",
      "dtadfile    object\n",
      "visapost    object\n",
      "occup       object\n",
      "entdepa     object\n",
      "entdepd     object\n",
      "entdepu     object\n",
      "matflag     object\n",
      "biryear     float64\n",
      "dtaddto     object\n",
      "gender      object\n",
      "insnum      object\n",
      "airline     object\n",
      "admnum      float64\n",
      "fltno       object\n",
      "visatype    object\n",
      "dtypes: float64(13), object(15)\n",
      "memory usage: 661.4+ MB\n"
     ]
    }
   ],
   "source": [
    "i94.info()"
   ]
  },
  {
   "cell_type": "code",
   "execution_count": 8,
   "metadata": {
    "editable": true
   },
   "outputs": [
    {
     "data": {
      "text/plain": [
       "2016.0    3096313\n",
       "Name: i94yr, dtype: int64"
      ]
     },
     "execution_count": 8,
     "metadata": {},
     "output_type": "execute_result"
    }
   ],
   "source": [
    "i94['i94yr'].value_counts(dropna=False)"
   ]
  },
  {
   "cell_type": "markdown",
   "metadata": {
    "editable": true
   },
   "source": [
    "#### FMTOUT.csv"
   ]
  },
  {
   "cell_type": "code",
   "execution_count": 9,
   "metadata": {
    "editable": true
   },
   "outputs": [],
   "source": [
    "fname = 'FMTOUT.csv'\n",
    "fmtout = pd.read_csv(fname)"
   ]
  },
  {
   "cell_type": "code",
   "execution_count": 10,
   "metadata": {
    "editable": true
   },
   "outputs": [
    {
     "data": {
      "text/html": [
       "<div>\n",
       "<style scoped>\n",
       "    .dataframe tbody tr th:only-of-type {\n",
       "        vertical-align: middle;\n",
       "    }\n",
       "\n",
       "    .dataframe tbody tr th {\n",
       "        vertical-align: top;\n",
       "    }\n",
       "\n",
       "    .dataframe thead th {\n",
       "        text-align: right;\n",
       "    }\n",
       "</style>\n",
       "<table border=\"1\" class=\"dataframe\">\n",
       "  <thead>\n",
       "    <tr style=\"text-align: right;\">\n",
       "      <th></th>\n",
       "      <th>FMTNAME</th>\n",
       "      <th>START</th>\n",
       "      <th>LABEL</th>\n",
       "    </tr>\n",
       "  </thead>\n",
       "  <tbody>\n",
       "    <tr>\n",
       "      <th>0</th>\n",
       "      <td>I94CNTYL</td>\n",
       "      <td>0</td>\n",
       "      <td>INVALID: STATELESS</td>\n",
       "    </tr>\n",
       "    <tr>\n",
       "      <th>1</th>\n",
       "      <td>I94CNTYL</td>\n",
       "      <td>54</td>\n",
       "      <td>No Country Code (54)</td>\n",
       "    </tr>\n",
       "  </tbody>\n",
       "</table>\n",
       "</div>"
      ],
      "text/plain": [
       "    FMTNAME START                 LABEL\n",
       "0  I94CNTYL     0    INVALID: STATELESS\n",
       "1  I94CNTYL    54  No Country Code (54)"
      ]
     },
     "execution_count": 10,
     "metadata": {},
     "output_type": "execute_result"
    }
   ],
   "source": [
    "fmtout.head(2)"
   ]
  },
  {
   "cell_type": "markdown",
   "metadata": {
    "editable": true
   },
   "source": [
    "#### airport-codes_csv"
   ]
  },
  {
   "cell_type": "code",
   "execution_count": 11,
   "metadata": {
    "editable": true
   },
   "outputs": [],
   "source": [
    "fname = 'airport-codes_csv.csv'\n",
    "airport_code = pd.read_csv(fname)"
   ]
  },
  {
   "cell_type": "code",
   "execution_count": 12,
   "metadata": {
    "editable": true
   },
   "outputs": [
    {
     "data": {
      "text/html": [
       "<div>\n",
       "<style scoped>\n",
       "    .dataframe tbody tr th:only-of-type {\n",
       "        vertical-align: middle;\n",
       "    }\n",
       "\n",
       "    .dataframe tbody tr th {\n",
       "        vertical-align: top;\n",
       "    }\n",
       "\n",
       "    .dataframe thead th {\n",
       "        text-align: right;\n",
       "    }\n",
       "</style>\n",
       "<table border=\"1\" class=\"dataframe\">\n",
       "  <thead>\n",
       "    <tr style=\"text-align: right;\">\n",
       "      <th></th>\n",
       "      <th>ident</th>\n",
       "      <th>type</th>\n",
       "      <th>name</th>\n",
       "      <th>elevation_ft</th>\n",
       "      <th>continent</th>\n",
       "      <th>iso_country</th>\n",
       "      <th>iso_region</th>\n",
       "      <th>municipality</th>\n",
       "      <th>gps_code</th>\n",
       "      <th>iata_code</th>\n",
       "      <th>local_code</th>\n",
       "      <th>coordinates</th>\n",
       "    </tr>\n",
       "  </thead>\n",
       "  <tbody>\n",
       "    <tr>\n",
       "      <th>22443</th>\n",
       "      <td>GB-0549</td>\n",
       "      <td>small_airport</td>\n",
       "      <td>Anniesfield Microlight Site</td>\n",
       "      <td>NaN</td>\n",
       "      <td>EU</td>\n",
       "      <td>GB</td>\n",
       "      <td>GB-ENG</td>\n",
       "      <td>NaN</td>\n",
       "      <td>NaN</td>\n",
       "      <td>NaN</td>\n",
       "      <td>NaN</td>\n",
       "      <td>0.699028, 51.751637</td>\n",
       "    </tr>\n",
       "    <tr>\n",
       "      <th>54766</th>\n",
       "      <td>ZBUC</td>\n",
       "      <td>medium_airport</td>\n",
       "      <td>Ulanqab Jining Airport</td>\n",
       "      <td>NaN</td>\n",
       "      <td>AS</td>\n",
       "      <td>CN</td>\n",
       "      <td>CN-15</td>\n",
       "      <td>Ulanqab</td>\n",
       "      <td>ZBUC</td>\n",
       "      <td>UCB</td>\n",
       "      <td>NaN</td>\n",
       "      <td>113.108056, 41.129722</td>\n",
       "    </tr>\n",
       "    <tr>\n",
       "      <th>21508</th>\n",
       "      <td>FZAS</td>\n",
       "      <td>small_airport</td>\n",
       "      <td>Inkisi Airport</td>\n",
       "      <td>1968.0</td>\n",
       "      <td>AF</td>\n",
       "      <td>CD</td>\n",
       "      <td>CD-BC</td>\n",
       "      <td>Inkisi</td>\n",
       "      <td>FZAS</td>\n",
       "      <td>NaN</td>\n",
       "      <td>NaN</td>\n",
       "      <td>15, -5.166999816894531</td>\n",
       "    </tr>\n",
       "    <tr>\n",
       "      <th>19167</th>\n",
       "      <td>EPZR</td>\n",
       "      <td>small_airport</td>\n",
       "      <td>Å»ar Airport</td>\n",
       "      <td>1260.0</td>\n",
       "      <td>EU</td>\n",
       "      <td>PL</td>\n",
       "      <td>PL-SL</td>\n",
       "      <td>MiÄdzybrodzie  Å»ywieckie</td>\n",
       "      <td>EPZR</td>\n",
       "      <td>NaN</td>\n",
       "      <td>NaN</td>\n",
       "      <td>19.21809959411621, 49.77109909057617</td>\n",
       "    </tr>\n",
       "    <tr>\n",
       "      <th>8415</th>\n",
       "      <td>7OH2</td>\n",
       "      <td>small_airport</td>\n",
       "      <td>Canal Fulton Airport</td>\n",
       "      <td>1150.0</td>\n",
       "      <td>NaN</td>\n",
       "      <td>US</td>\n",
       "      <td>US-OH</td>\n",
       "      <td>Canal Fulton</td>\n",
       "      <td>7OH2</td>\n",
       "      <td>NaN</td>\n",
       "      <td>7OH2</td>\n",
       "      <td>-81.53369903564453, 40.900299072265625</td>\n",
       "    </tr>\n",
       "  </tbody>\n",
       "</table>\n",
       "</div>"
      ],
      "text/plain": [
       "         ident            type                         name  elevation_ft  \\\n",
       "22443  GB-0549   small_airport  Anniesfield Microlight Site           NaN   \n",
       "54766     ZBUC  medium_airport       Ulanqab Jining Airport           NaN   \n",
       "21508     FZAS   small_airport               Inkisi Airport        1968.0   \n",
       "19167     EPZR   small_airport                 Å»ar Airport        1260.0   \n",
       "8415      7OH2   small_airport         Canal Fulton Airport        1150.0   \n",
       "\n",
       "      continent iso_country iso_region                municipality gps_code  \\\n",
       "22443        EU          GB     GB-ENG                         NaN      NaN   \n",
       "54766        AS          CN      CN-15                     Ulanqab     ZBUC   \n",
       "21508        AF          CD      CD-BC                      Inkisi     FZAS   \n",
       "19167        EU          PL      PL-SL  MiÄdzybrodzie  Å»ywieckie     EPZR   \n",
       "8415        NaN          US      US-OH                Canal Fulton     7OH2   \n",
       "\n",
       "      iata_code local_code                             coordinates  \n",
       "22443       NaN        NaN                     0.699028, 51.751637  \n",
       "54766       UCB        NaN                   113.108056, 41.129722  \n",
       "21508       NaN        NaN                  15, -5.166999816894531  \n",
       "19167       NaN        NaN    19.21809959411621, 49.77109909057617  \n",
       "8415        NaN       7OH2  -81.53369903564453, 40.900299072265625  "
      ]
     },
     "execution_count": 12,
     "metadata": {},
     "output_type": "execute_result"
    }
   ],
   "source": [
    "airport_code.sample(5)"
   ]
  },
  {
   "cell_type": "code",
   "execution_count": 13,
   "metadata": {
    "editable": true
   },
   "outputs": [
    {
     "data": {
      "text/html": [
       "<div>\n",
       "<style scoped>\n",
       "    .dataframe tbody tr th:only-of-type {\n",
       "        vertical-align: middle;\n",
       "    }\n",
       "\n",
       "    .dataframe tbody tr th {\n",
       "        vertical-align: top;\n",
       "    }\n",
       "\n",
       "    .dataframe thead th {\n",
       "        text-align: right;\n",
       "    }\n",
       "</style>\n",
       "<table border=\"1\" class=\"dataframe\">\n",
       "  <thead>\n",
       "    <tr style=\"text-align: right;\">\n",
       "      <th></th>\n",
       "      <th>ident</th>\n",
       "      <th>type</th>\n",
       "      <th>name</th>\n",
       "      <th>elevation_ft</th>\n",
       "      <th>continent</th>\n",
       "      <th>iso_country</th>\n",
       "      <th>iso_region</th>\n",
       "      <th>municipality</th>\n",
       "      <th>gps_code</th>\n",
       "      <th>iata_code</th>\n",
       "      <th>local_code</th>\n",
       "      <th>coordinates</th>\n",
       "    </tr>\n",
       "  </thead>\n",
       "  <tbody>\n",
       "    <tr>\n",
       "      <th>29940</th>\n",
       "      <td>KSFO</td>\n",
       "      <td>large_airport</td>\n",
       "      <td>San Francisco International Airport</td>\n",
       "      <td>13.0</td>\n",
       "      <td>NaN</td>\n",
       "      <td>US</td>\n",
       "      <td>US-CA</td>\n",
       "      <td>San Francisco</td>\n",
       "      <td>KSFO</td>\n",
       "      <td>SFO</td>\n",
       "      <td>SFO</td>\n",
       "      <td>-122.375, 37.61899948120117</td>\n",
       "    </tr>\n",
       "    <tr>\n",
       "      <th>45938</th>\n",
       "      <td>SSFO</td>\n",
       "      <td>small_airport</td>\n",
       "      <td>Fazenda Novo Horizonte Airport</td>\n",
       "      <td>354.0</td>\n",
       "      <td>SA</td>\n",
       "      <td>BR</td>\n",
       "      <td>BR-MS</td>\n",
       "      <td>Miranda</td>\n",
       "      <td>SSFO</td>\n",
       "      <td>NaN</td>\n",
       "      <td>NaN</td>\n",
       "      <td>-56.32027816772461, -20.039722442626953</td>\n",
       "    </tr>\n",
       "  </tbody>\n",
       "</table>\n",
       "</div>"
      ],
      "text/plain": [
       "      ident           type                                 name  elevation_ft  \\\n",
       "29940  KSFO  large_airport  San Francisco International Airport          13.0   \n",
       "45938  SSFO  small_airport       Fazenda Novo Horizonte Airport         354.0   \n",
       "\n",
       "      continent iso_country iso_region   municipality gps_code iata_code  \\\n",
       "29940       NaN          US      US-CA  San Francisco     KSFO       SFO   \n",
       "45938        SA          BR      BR-MS        Miranda     SSFO       NaN   \n",
       "\n",
       "      local_code                              coordinates  \n",
       "29940        SFO              -122.375, 37.61899948120117  \n",
       "45938        NaN  -56.32027816772461, -20.039722442626953  "
      ]
     },
     "execution_count": 13,
     "metadata": {},
     "output_type": "execute_result"
    }
   ],
   "source": [
    "airport_code[airport_code.gps_code.str.contains(\"SFO\",na = False)]"
   ]
  },
  {
   "cell_type": "code",
   "execution_count": 14,
   "metadata": {
    "editable": true
   },
   "outputs": [
    {
     "data": {
      "text/html": [
       "<div>\n",
       "<style scoped>\n",
       "    .dataframe tbody tr th:only-of-type {\n",
       "        vertical-align: middle;\n",
       "    }\n",
       "\n",
       "    .dataframe tbody tr th {\n",
       "        vertical-align: top;\n",
       "    }\n",
       "\n",
       "    .dataframe thead th {\n",
       "        text-align: right;\n",
       "    }\n",
       "</style>\n",
       "<table border=\"1\" class=\"dataframe\">\n",
       "  <thead>\n",
       "    <tr style=\"text-align: right;\">\n",
       "      <th></th>\n",
       "      <th>ident</th>\n",
       "      <th>type</th>\n",
       "      <th>name</th>\n",
       "      <th>elevation_ft</th>\n",
       "      <th>continent</th>\n",
       "      <th>iso_country</th>\n",
       "      <th>iso_region</th>\n",
       "      <th>municipality</th>\n",
       "      <th>gps_code</th>\n",
       "      <th>iata_code</th>\n",
       "      <th>local_code</th>\n",
       "      <th>coordinates</th>\n",
       "    </tr>\n",
       "  </thead>\n",
       "  <tbody>\n",
       "    <tr>\n",
       "      <th>28131</th>\n",
       "      <td>KMSP</td>\n",
       "      <td>large_airport</td>\n",
       "      <td>Minneapolis-St Paul International/Wold-Chamberlain Airport</td>\n",
       "      <td>841.0</td>\n",
       "      <td>NaN</td>\n",
       "      <td>US</td>\n",
       "      <td>US-MN</td>\n",
       "      <td>Minneapolis</td>\n",
       "      <td>KMSP</td>\n",
       "      <td>MSP</td>\n",
       "      <td>MSP</td>\n",
       "      <td>-93.221802, 44.882</td>\n",
       "    </tr>\n",
       "    <tr>\n",
       "      <th>33409</th>\n",
       "      <td>MMSP</td>\n",
       "      <td>medium_airport</td>\n",
       "      <td>Ponciano Arriaga International Airport</td>\n",
       "      <td>6035.0</td>\n",
       "      <td>NaN</td>\n",
       "      <td>MX</td>\n",
       "      <td>MX-SLP</td>\n",
       "      <td>San Luis PotosÃ­</td>\n",
       "      <td>MMSP</td>\n",
       "      <td>SLP</td>\n",
       "      <td>NaN</td>\n",
       "      <td>-100.930999756, 22.254299163800003</td>\n",
       "    </tr>\n",
       "    <tr>\n",
       "      <th>33946</th>\n",
       "      <td>MSPT</td>\n",
       "      <td>small_airport</td>\n",
       "      <td>El Platanar Airport</td>\n",
       "      <td>1354.0</td>\n",
       "      <td>NaN</td>\n",
       "      <td>SV</td>\n",
       "      <td>SV-CU</td>\n",
       "      <td>Suchitoto</td>\n",
       "      <td>MSPT</td>\n",
       "      <td>NaN</td>\n",
       "      <td>NaN</td>\n",
       "      <td>-89.06279754638672, 13.945300102233887</td>\n",
       "    </tr>\n",
       "    <tr>\n",
       "      <th>53796</th>\n",
       "      <td>YMSP</td>\n",
       "      <td>small_airport</td>\n",
       "      <td>Mount Surprise Airport</td>\n",
       "      <td>NaN</td>\n",
       "      <td>OC</td>\n",
       "      <td>AU</td>\n",
       "      <td>AU-QLD</td>\n",
       "      <td>NaN</td>\n",
       "      <td>YMSP</td>\n",
       "      <td>NaN</td>\n",
       "      <td>NaN</td>\n",
       "      <td>144.28500366210938, -18.126300811767578</td>\n",
       "    </tr>\n",
       "  </tbody>\n",
       "</table>\n",
       "</div>"
      ],
      "text/plain": [
       "      ident            type  \\\n",
       "28131  KMSP   large_airport   \n",
       "33409  MMSP  medium_airport   \n",
       "33946  MSPT   small_airport   \n",
       "53796  YMSP   small_airport   \n",
       "\n",
       "                                                             name  \\\n",
       "28131  Minneapolis-St Paul International/Wold-Chamberlain Airport   \n",
       "33409                      Ponciano Arriaga International Airport   \n",
       "33946                                         El Platanar Airport   \n",
       "53796                                      Mount Surprise Airport   \n",
       "\n",
       "       elevation_ft continent iso_country iso_region      municipality  \\\n",
       "28131         841.0       NaN          US      US-MN       Minneapolis   \n",
       "33409        6035.0       NaN          MX     MX-SLP  San Luis PotosÃ­   \n",
       "33946        1354.0       NaN          SV      SV-CU         Suchitoto   \n",
       "53796           NaN        OC          AU     AU-QLD               NaN   \n",
       "\n",
       "      gps_code iata_code local_code                              coordinates  \n",
       "28131     KMSP       MSP        MSP                       -93.221802, 44.882  \n",
       "33409     MMSP       SLP        NaN       -100.930999756, 22.254299163800003  \n",
       "33946     MSPT       NaN        NaN   -89.06279754638672, 13.945300102233887  \n",
       "53796     YMSP       NaN        NaN  144.28500366210938, -18.126300811767578  "
      ]
     },
     "execution_count": 14,
     "metadata": {},
     "output_type": "execute_result"
    }
   ],
   "source": [
    "airport_code[airport_code.gps_code.str.contains(\"MSP\",na = False)]"
   ]
  },
  {
   "cell_type": "markdown",
   "metadata": {
    "editable": true
   },
   "source": [
    "#### us cities demographics"
   ]
  },
  {
   "cell_type": "code",
   "execution_count": 15,
   "metadata": {
    "editable": true
   },
   "outputs": [],
   "source": [
    "fname = 'us-cities-demographics.csv'\n",
    "us_city = pd.read_csv(fname,sep=\";\",header=0)"
   ]
  },
  {
   "cell_type": "code",
   "execution_count": 16,
   "metadata": {
    "editable": true
   },
   "outputs": [
    {
     "data": {
      "text/plain": [
       "(2891, 12)"
      ]
     },
     "execution_count": 16,
     "metadata": {},
     "output_type": "execute_result"
    }
   ],
   "source": [
    "us_city.shape"
   ]
  },
  {
   "cell_type": "markdown",
   "metadata": {
    "editable": true
   },
   "source": [
    "#### Airlines"
   ]
  },
  {
   "cell_type": "code",
   "execution_count": 17,
   "metadata": {
    "editable": true
   },
   "outputs": [],
   "source": [
    "fname = 'iata_airlines.csv'\n",
    "airlines= pd.read_csv(fname)"
   ]
  },
  {
   "cell_type": "code",
   "execution_count": 18,
   "metadata": {
    "editable": true
   },
   "outputs": [
    {
     "data": {
      "text/plain": [
       "(297, 5)"
      ]
     },
     "execution_count": 18,
     "metadata": {},
     "output_type": "execute_result"
    }
   ],
   "source": [
    "airlines.shape"
   ]
  },
  {
   "cell_type": "code",
   "execution_count": 19,
   "metadata": {
    "editable": true
   },
   "outputs": [
    {
     "data": {
      "text/plain": [
       "'\\nfrom pyspark.sql import SparkSession\\nspark = SparkSession.builder.config(\"spark.jars.packages\",\"saurfang:spark-sas7bdat:2.0.0-s_2.11\").enableHiveSupport().getOrCreate()\\ndf_spark =spark.read.format(\\'com.github.saurfang.sas.spark\\').load(\\'../../data/18-83510-I94-Data-2016/i94_apr16_sub.sas7bdat\\')\\n'"
      ]
     },
     "execution_count": 19,
     "metadata": {},
     "output_type": "execute_result"
    }
   ],
   "source": [
    "'''\n",
    "from pyspark.sql import SparkSession\n",
    "spark = SparkSession.builder.\\\n",
    "config(\"spark.jars.packages\",\"saurfang:spark-sas7bdat:2.0.0-s_2.11\")\\\n",
    ".enableHiveSupport().getOrCreate()\n",
    "df_spark =spark.read.format('com.github.saurfang.sas.spark').load('../../data/18-83510-I94-Data-2016/i94_apr16_sub.sas7bdat')\n",
    "'''"
   ]
  },
  {
   "cell_type": "code",
   "execution_count": 20,
   "metadata": {
    "editable": true
   },
   "outputs": [],
   "source": [
    "#write to parquet\n",
    "#df_spark.write.parquet(\"sas_data\")\n",
    "#df_spark=spark.read.parquet(\"sas_data\")"
   ]
  },
  {
   "cell_type": "markdown",
   "metadata": {
    "editable": true
   },
   "source": [
    "### Step 2: Explore and Assess the Data\n",
    "#### Explore the Data \n",
    "Identify data quality issues, like missing values, duplicate data, etc."
   ]
  },
  {
   "cell_type": "markdown",
   "metadata": {
    "editable": true
   },
   "source": [
    "##### I94 Immigration Data"
   ]
  },
  {
   "cell_type": "code",
   "execution_count": 21,
   "metadata": {
    "editable": true
   },
   "outputs": [
    {
     "data": {
      "text/plain": [
       "Index(['cicid', 'i94yr', 'i94mon', 'i94cit', 'i94res', 'i94port', 'arrdate',\n",
       "       'i94visa', 'count', 'admnum', 'visatype'],\n",
       "      dtype='object')"
      ]
     },
     "execution_count": 21,
     "metadata": {},
     "output_type": "execute_result"
    }
   ],
   "source": [
    "# Check columns without missing value.\n",
    "i94.columns[i94.isnull().mean()==0]"
   ]
  },
  {
   "cell_type": "code",
   "execution_count": 22,
   "metadata": {
    "editable": true
   },
   "outputs": [
    {
     "data": {
      "text/plain": [
       "entdepu     9.998734e-01\n",
       "occup       9.973756e-01\n",
       "insnum      9.632763e-01\n",
       "visapost    6.075775e-01\n",
       "gender      1.337943e-01\n",
       "i94addr     4.921079e-02\n",
       "depdate     4.600859e-02\n",
       "matflag     4.470769e-02\n",
       "entdepd     4.470769e-02\n",
       "airline     2.700857e-02\n",
       "fltno       6.313638e-03\n",
       "i94bir      2.590177e-04\n",
       "biryear     2.590177e-04\n",
       "dtaddto     1.540542e-04\n",
       "i94mode     7.718858e-05\n",
       "entdepa     7.686561e-05\n",
       "dtadfile    3.229648e-07\n",
       "i94cit      0.000000e+00\n",
       "i94mon      0.000000e+00\n",
       "i94port     0.000000e+00\n",
       "i94yr       0.000000e+00\n",
       "i94res      0.000000e+00\n",
       "visatype    0.000000e+00\n",
       "arrdate     0.000000e+00\n",
       "i94visa     0.000000e+00\n",
       "count       0.000000e+00\n",
       "admnum      0.000000e+00\n",
       "cicid       0.000000e+00\n",
       "dtype: float64"
      ]
     },
     "execution_count": 22,
     "metadata": {},
     "output_type": "execute_result"
    }
   ],
   "source": [
    "# Check the columns that have highest percentage of missing values.\n",
    "i94.isnull().mean().sort_values(ascending=False)"
   ]
  },
  {
   "cell_type": "code",
   "execution_count": 23,
   "metadata": {
    "editable": true
   },
   "outputs": [
    {
     "name": "stdout",
     "output_type": "stream",
     "text": [
      "cicid : 0.0\n",
      "i94yr : 0.999999677035\n",
      "i94mon : 0.999999677035\n",
      "i94cit : 0.999921519562\n",
      "i94res : 0.999926041069\n",
      "i94port : 0.999903433535\n",
      "arrdate : 0.999990311057\n",
      "i94mode : 0.999998385176\n",
      "i94addr : 0.999851759173\n",
      "depdate : 0.999923780315\n",
      "i94bir : 0.999963504982\n",
      "i94visa : 0.999999031106\n",
      "count : 0.999999677035\n",
      "dtadfile : 0.999961890158\n",
      "visapost : 0.99982850571\n",
      "occup : 0.999963827946\n",
      "entdepa : 0.999995478493\n",
      "entdepd : 0.999995801458\n",
      "entdepu : 0.999999031106\n",
      "matflag : 0.99999935407\n",
      "biryear : 0.999963504982\n",
      "dtaddto : 0.999748733413\n",
      "gender : 0.999998385176\n",
      "insnum : 0.99938184544\n",
      "airline : 0.999827213851\n",
      "admnum : 0.00669635143475\n",
      "fltno : 0.997689833037\n",
      "visatype : 0.999994509599\n"
     ]
    }
   ],
   "source": [
    "# Check percentage of duplicates for each column\n",
    "# admnum is in scientific format, let's convert it to integer first\n",
    "i94['admnum'] = i94['admnum'].astype(int)\n",
    "\n",
    "for i in i94.columns:\n",
    "    result = i94[i].duplicated().mean()\n",
    "    print(\"%s : %s\" % (i,result))\n",
    "    "
   ]
  },
  {
   "cell_type": "code",
   "execution_count": 24,
   "metadata": {
    "editable": true
   },
   "outputs": [
    {
     "data": {
      "text/plain": [
       "(20734, 28)"
      ]
     },
     "execution_count": 24,
     "metadata": {},
     "output_type": "execute_result"
    }
   ],
   "source": [
    "# cicid has no duplicate, can be considered as a primary key.The admnum looks almost distinct.\n",
    "# Let's check what is duplicated in admnum\n",
    "i94_dup = i94[i94.duplicated(subset=['admnum'])==True]\n",
    "i94_dup.shape"
   ]
  },
  {
   "cell_type": "code",
   "execution_count": 25,
   "metadata": {
    "editable": true
   },
   "outputs": [
    {
     "data": {
      "text/html": [
       "<div>\n",
       "<style scoped>\n",
       "    .dataframe tbody tr th:only-of-type {\n",
       "        vertical-align: middle;\n",
       "    }\n",
       "\n",
       "    .dataframe tbody tr th {\n",
       "        vertical-align: top;\n",
       "    }\n",
       "\n",
       "    .dataframe thead th {\n",
       "        text-align: right;\n",
       "    }\n",
       "</style>\n",
       "<table border=\"1\" class=\"dataframe\">\n",
       "  <thead>\n",
       "    <tr style=\"text-align: right;\">\n",
       "      <th></th>\n",
       "      <th>cicid</th>\n",
       "      <th>i94yr</th>\n",
       "      <th>i94mon</th>\n",
       "      <th>i94cit</th>\n",
       "      <th>i94res</th>\n",
       "      <th>i94port</th>\n",
       "      <th>arrdate</th>\n",
       "      <th>i94mode</th>\n",
       "      <th>i94addr</th>\n",
       "      <th>depdate</th>\n",
       "      <th>i94bir</th>\n",
       "      <th>i94visa</th>\n",
       "      <th>count</th>\n",
       "      <th>dtadfile</th>\n",
       "      <th>visapost</th>\n",
       "      <th>occup</th>\n",
       "      <th>entdepa</th>\n",
       "      <th>entdepd</th>\n",
       "      <th>entdepu</th>\n",
       "      <th>matflag</th>\n",
       "      <th>biryear</th>\n",
       "      <th>dtaddto</th>\n",
       "      <th>gender</th>\n",
       "      <th>insnum</th>\n",
       "      <th>airline</th>\n",
       "      <th>admnum</th>\n",
       "      <th>fltno</th>\n",
       "      <th>visatype</th>\n",
       "    </tr>\n",
       "  </thead>\n",
       "  <tbody>\n",
       "    <tr>\n",
       "      <th>52486</th>\n",
       "      <td>62220.0</td>\n",
       "      <td>2016.0</td>\n",
       "      <td>4.0</td>\n",
       "      <td>213.0</td>\n",
       "      <td>213.0</td>\n",
       "      <td>MAA</td>\n",
       "      <td>20545.0</td>\n",
       "      <td>1.0</td>\n",
       "      <td>CA</td>\n",
       "      <td>20546.0</td>\n",
       "      <td>38.0</td>\n",
       "      <td>1.0</td>\n",
       "      <td>1.0</td>\n",
       "      <td>20160401</td>\n",
       "      <td>BMB</td>\n",
       "      <td>NaN</td>\n",
       "      <td>G</td>\n",
       "      <td>I</td>\n",
       "      <td>NaN</td>\n",
       "      <td>M</td>\n",
       "      <td>1978.0</td>\n",
       "      <td>10012016</td>\n",
       "      <td>M</td>\n",
       "      <td>NaN</td>\n",
       "      <td>EY</td>\n",
       "      <td>92517099730</td>\n",
       "      <td>00171</td>\n",
       "      <td>B1</td>\n",
       "    </tr>\n",
       "    <tr>\n",
       "      <th>153389</th>\n",
       "      <td>282406.0</td>\n",
       "      <td>2016.0</td>\n",
       "      <td>4.0</td>\n",
       "      <td>213.0</td>\n",
       "      <td>213.0</td>\n",
       "      <td>MAA</td>\n",
       "      <td>20546.0</td>\n",
       "      <td>1.0</td>\n",
       "      <td>CA</td>\n",
       "      <td>20618.0</td>\n",
       "      <td>38.0</td>\n",
       "      <td>1.0</td>\n",
       "      <td>1.0</td>\n",
       "      <td>20160402</td>\n",
       "      <td>BMB</td>\n",
       "      <td>NaN</td>\n",
       "      <td>U</td>\n",
       "      <td>O</td>\n",
       "      <td>NaN</td>\n",
       "      <td>M</td>\n",
       "      <td>1978.0</td>\n",
       "      <td>10012016</td>\n",
       "      <td>M</td>\n",
       "      <td>NaN</td>\n",
       "      <td>EY</td>\n",
       "      <td>92517099730</td>\n",
       "      <td>171</td>\n",
       "      <td>B1</td>\n",
       "    </tr>\n",
       "  </tbody>\n",
       "</table>\n",
       "</div>"
      ],
      "text/plain": [
       "           cicid   i94yr  i94mon  i94cit  i94res i94port  arrdate  i94mode  \\\n",
       "52486    62220.0  2016.0     4.0   213.0   213.0     MAA  20545.0      1.0   \n",
       "153389  282406.0  2016.0     4.0   213.0   213.0     MAA  20546.0      1.0   \n",
       "\n",
       "       i94addr  depdate  i94bir  i94visa  count  dtadfile visapost occup  \\\n",
       "52486       CA  20546.0    38.0      1.0    1.0  20160401      BMB   NaN   \n",
       "153389      CA  20618.0    38.0      1.0    1.0  20160402      BMB   NaN   \n",
       "\n",
       "       entdepa entdepd entdepu matflag  biryear   dtaddto gender insnum  \\\n",
       "52486        G       I     NaN       M   1978.0  10012016      M    NaN   \n",
       "153389       U       O     NaN       M   1978.0  10012016      M    NaN   \n",
       "\n",
       "       airline       admnum  fltno visatype  \n",
       "52486       EY  92517099730  00171       B1  \n",
       "153389      EY  92517099730    171       B1  "
      ]
     },
     "execution_count": 25,
     "metadata": {},
     "output_type": "execute_result"
    }
   ],
   "source": [
    "# Here is a sample about duplicated admnum\n",
    "\n",
    "i94.loc[i94.admnum==92517099730,:]"
   ]
  },
  {
   "cell_type": "code",
   "execution_count": 26,
   "metadata": {
    "editable": true
   },
   "outputs": [
    {
     "data": {
      "text/html": [
       "<div>\n",
       "<style scoped>\n",
       "    .dataframe tbody tr th:only-of-type {\n",
       "        vertical-align: middle;\n",
       "    }\n",
       "\n",
       "    .dataframe tbody tr th {\n",
       "        vertical-align: top;\n",
       "    }\n",
       "\n",
       "    .dataframe thead th {\n",
       "        text-align: right;\n",
       "    }\n",
       "</style>\n",
       "<table border=\"1\" class=\"dataframe\">\n",
       "  <thead>\n",
       "    <tr style=\"text-align: right;\">\n",
       "      <th></th>\n",
       "      <th>cicid</th>\n",
       "      <th>i94yr</th>\n",
       "      <th>i94mon</th>\n",
       "      <th>i94cit</th>\n",
       "      <th>i94res</th>\n",
       "      <th>i94port</th>\n",
       "      <th>arrdate</th>\n",
       "      <th>i94mode</th>\n",
       "      <th>i94addr</th>\n",
       "      <th>depdate</th>\n",
       "      <th>i94bir</th>\n",
       "      <th>i94visa</th>\n",
       "      <th>count</th>\n",
       "      <th>dtadfile</th>\n",
       "      <th>visapost</th>\n",
       "      <th>occup</th>\n",
       "      <th>entdepa</th>\n",
       "      <th>entdepd</th>\n",
       "      <th>entdepu</th>\n",
       "      <th>matflag</th>\n",
       "      <th>biryear</th>\n",
       "      <th>dtaddto</th>\n",
       "      <th>gender</th>\n",
       "      <th>insnum</th>\n",
       "      <th>airline</th>\n",
       "      <th>admnum</th>\n",
       "      <th>fltno</th>\n",
       "      <th>visatype</th>\n",
       "    </tr>\n",
       "  </thead>\n",
       "  <tbody>\n",
       "    <tr>\n",
       "      <th>1717020</th>\n",
       "      <td>3492908.0</td>\n",
       "      <td>2016.0</td>\n",
       "      <td>4.0</td>\n",
       "      <td>113.0</td>\n",
       "      <td>113.0</td>\n",
       "      <td>NYC</td>\n",
       "      <td>20546.0</td>\n",
       "      <td>1.0</td>\n",
       "      <td>CT</td>\n",
       "      <td>NaN</td>\n",
       "      <td>39.0</td>\n",
       "      <td>2.0</td>\n",
       "      <td>1.0</td>\n",
       "      <td>20160419</td>\n",
       "      <td>NaN</td>\n",
       "      <td>NaN</td>\n",
       "      <td>A</td>\n",
       "      <td>NaN</td>\n",
       "      <td>NaN</td>\n",
       "      <td>NaN</td>\n",
       "      <td>1977.0</td>\n",
       "      <td>10012016</td>\n",
       "      <td>M</td>\n",
       "      <td>5704</td>\n",
       "      <td>AZ</td>\n",
       "      <td>0</td>\n",
       "      <td>00608</td>\n",
       "      <td>B2</td>\n",
       "    </tr>\n",
       "    <tr>\n",
       "      <th>2913107</th>\n",
       "      <td>5908904.0</td>\n",
       "      <td>2016.0</td>\n",
       "      <td>4.0</td>\n",
       "      <td>689.0</td>\n",
       "      <td>689.0</td>\n",
       "      <td>XXX</td>\n",
       "      <td>20555.0</td>\n",
       "      <td>1.0</td>\n",
       "      <td>CA</td>\n",
       "      <td>NaN</td>\n",
       "      <td>67.0</td>\n",
       "      <td>2.0</td>\n",
       "      <td>1.0</td>\n",
       "      <td>20160503</td>\n",
       "      <td>RDJ</td>\n",
       "      <td>NaN</td>\n",
       "      <td>A</td>\n",
       "      <td>NaN</td>\n",
       "      <td>NaN</td>\n",
       "      <td>NaN</td>\n",
       "      <td>1949.0</td>\n",
       "      <td>10102016</td>\n",
       "      <td>F</td>\n",
       "      <td>5020</td>\n",
       "      <td>CM</td>\n",
       "      <td>0</td>\n",
       "      <td>00441</td>\n",
       "      <td>B2</td>\n",
       "    </tr>\n",
       "    <tr>\n",
       "      <th>2913108</th>\n",
       "      <td>5908905.0</td>\n",
       "      <td>2016.0</td>\n",
       "      <td>4.0</td>\n",
       "      <td>689.0</td>\n",
       "      <td>689.0</td>\n",
       "      <td>XXX</td>\n",
       "      <td>20555.0</td>\n",
       "      <td>1.0</td>\n",
       "      <td>CA</td>\n",
       "      <td>NaN</td>\n",
       "      <td>66.0</td>\n",
       "      <td>2.0</td>\n",
       "      <td>1.0</td>\n",
       "      <td>20160503</td>\n",
       "      <td>RDJ</td>\n",
       "      <td>NaN</td>\n",
       "      <td>A</td>\n",
       "      <td>NaN</td>\n",
       "      <td>NaN</td>\n",
       "      <td>NaN</td>\n",
       "      <td>1950.0</td>\n",
       "      <td>10102016</td>\n",
       "      <td>F</td>\n",
       "      <td>5020</td>\n",
       "      <td>CM</td>\n",
       "      <td>0</td>\n",
       "      <td>00441</td>\n",
       "      <td>B2</td>\n",
       "    </tr>\n",
       "    <tr>\n",
       "      <th>2915879</th>\n",
       "      <td>5918805.0</td>\n",
       "      <td>2016.0</td>\n",
       "      <td>4.0</td>\n",
       "      <td>464.0</td>\n",
       "      <td>464.0</td>\n",
       "      <td>VIC</td>\n",
       "      <td>20550.0</td>\n",
       "      <td>9.0</td>\n",
       "      <td>WA</td>\n",
       "      <td>NaN</td>\n",
       "      <td>19.0</td>\n",
       "      <td>2.0</td>\n",
       "      <td>1.0</td>\n",
       "      <td>20160513</td>\n",
       "      <td>NaN</td>\n",
       "      <td>NaN</td>\n",
       "      <td>A</td>\n",
       "      <td>NaN</td>\n",
       "      <td>NaN</td>\n",
       "      <td>NaN</td>\n",
       "      <td>1997.0</td>\n",
       "      <td>07042016</td>\n",
       "      <td>F</td>\n",
       "      <td>3545</td>\n",
       "      <td>NaN</td>\n",
       "      <td>0</td>\n",
       "      <td>NaN</td>\n",
       "      <td>WT</td>\n",
       "    </tr>\n",
       "    <tr>\n",
       "      <th>2916873</th>\n",
       "      <td>5925193.0</td>\n",
       "      <td>2016.0</td>\n",
       "      <td>4.0</td>\n",
       "      <td>111.0</td>\n",
       "      <td>111.0</td>\n",
       "      <td>BUF</td>\n",
       "      <td>20563.0</td>\n",
       "      <td>1.0</td>\n",
       "      <td>SC</td>\n",
       "      <td>NaN</td>\n",
       "      <td>40.0</td>\n",
       "      <td>2.0</td>\n",
       "      <td>1.0</td>\n",
       "      <td>20160520</td>\n",
       "      <td>NaN</td>\n",
       "      <td>NaN</td>\n",
       "      <td>A</td>\n",
       "      <td>NaN</td>\n",
       "      <td>NaN</td>\n",
       "      <td>NaN</td>\n",
       "      <td>1976.0</td>\n",
       "      <td>07182016</td>\n",
       "      <td>F</td>\n",
       "      <td>4647</td>\n",
       "      <td>AC</td>\n",
       "      <td>0</td>\n",
       "      <td>NaN</td>\n",
       "      <td>WT</td>\n",
       "    </tr>\n",
       "  </tbody>\n",
       "</table>\n",
       "</div>"
      ],
      "text/plain": [
       "             cicid   i94yr  i94mon  i94cit  i94res i94port  arrdate  i94mode  \\\n",
       "1717020  3492908.0  2016.0     4.0   113.0   113.0     NYC  20546.0      1.0   \n",
       "2913107  5908904.0  2016.0     4.0   689.0   689.0     XXX  20555.0      1.0   \n",
       "2913108  5908905.0  2016.0     4.0   689.0   689.0     XXX  20555.0      1.0   \n",
       "2915879  5918805.0  2016.0     4.0   464.0   464.0     VIC  20550.0      9.0   \n",
       "2916873  5925193.0  2016.0     4.0   111.0   111.0     BUF  20563.0      1.0   \n",
       "\n",
       "        i94addr  depdate  i94bir  i94visa  count  dtadfile visapost occup  \\\n",
       "1717020      CT      NaN    39.0      2.0    1.0  20160419      NaN   NaN   \n",
       "2913107      CA      NaN    67.0      2.0    1.0  20160503      RDJ   NaN   \n",
       "2913108      CA      NaN    66.0      2.0    1.0  20160503      RDJ   NaN   \n",
       "2915879      WA      NaN    19.0      2.0    1.0  20160513      NaN   NaN   \n",
       "2916873      SC      NaN    40.0      2.0    1.0  20160520      NaN   NaN   \n",
       "\n",
       "        entdepa entdepd entdepu matflag  biryear   dtaddto gender insnum  \\\n",
       "1717020       A     NaN     NaN     NaN   1977.0  10012016      M   5704   \n",
       "2913107       A     NaN     NaN     NaN   1949.0  10102016      F   5020   \n",
       "2913108       A     NaN     NaN     NaN   1950.0  10102016      F   5020   \n",
       "2915879       A     NaN     NaN     NaN   1997.0  07042016      F   3545   \n",
       "2916873       A     NaN     NaN     NaN   1976.0  07182016      F   4647   \n",
       "\n",
       "        airline  admnum  fltno visatype  \n",
       "1717020      AZ       0  00608       B2  \n",
       "2913107      CM       0  00441       B2  \n",
       "2913108      CM       0  00441       B2  \n",
       "2915879     NaN       0    NaN       WT  \n",
       "2916873      AC       0    NaN       WT  "
      ]
     },
     "execution_count": 26,
     "metadata": {},
     "output_type": "execute_result"
    }
   ],
   "source": [
    "# Looks like many zeros in admnum, I think it's a place holder if the admnum is missing.\n",
    "result = i94.loc[i94.admnum==0,:]\n",
    "result.head(5)"
   ]
  },
  {
   "cell_type": "code",
   "execution_count": 27,
   "metadata": {
    "editable": true
   },
   "outputs": [
    {
     "name": "stdout",
     "output_type": "stream",
     "text": [
      "(40108, 28)\n",
      "(40040, 28)\n"
     ]
    }
   ],
   "source": [
    "# Print all duplicate admnum.\n",
    "i94_all_dup = i94.loc[i94.admnum.isin(list(set(i94_dup.admnum.values))),:]\n",
    "print(i94_all_dup.shape)\n",
    "\n",
    "# Exclude the value when admnum is zero.\n",
    "i94_all_dup = i94_all_dup.loc[i94_all_dup.admnum != 0,:]\n",
    "print(i94_all_dup.shape)"
   ]
  },
  {
   "cell_type": "code",
   "execution_count": 28,
   "metadata": {
    "editable": true
   },
   "outputs": [
    {
     "data": {
      "text/plain": [
       "19373"
      ]
     },
     "execution_count": 28,
     "metadata": {},
     "output_type": "execute_result"
    }
   ],
   "source": [
    "# How many distinct admnum that has duplicates?\n",
    "len(set(i94_all_dup.admnum.values))"
   ]
  },
  {
   "cell_type": "code",
   "execution_count": 29,
   "metadata": {
    "editable": true
   },
   "outputs": [
    {
     "data": {
      "text/html": [
       "<div>\n",
       "<style scoped>\n",
       "    .dataframe tbody tr th:only-of-type {\n",
       "        vertical-align: middle;\n",
       "    }\n",
       "\n",
       "    .dataframe tbody tr th {\n",
       "        vertical-align: top;\n",
       "    }\n",
       "\n",
       "    .dataframe thead th {\n",
       "        text-align: right;\n",
       "    }\n",
       "</style>\n",
       "<table border=\"1\" class=\"dataframe\">\n",
       "  <thead>\n",
       "    <tr style=\"text-align: right;\">\n",
       "      <th></th>\n",
       "      <th>cicid</th>\n",
       "      <th>i94yr</th>\n",
       "      <th>i94mon</th>\n",
       "      <th>i94cit</th>\n",
       "      <th>i94res</th>\n",
       "      <th>i94port</th>\n",
       "      <th>arrdate</th>\n",
       "      <th>i94mode</th>\n",
       "      <th>i94addr</th>\n",
       "      <th>depdate</th>\n",
       "      <th>i94bir</th>\n",
       "      <th>i94visa</th>\n",
       "      <th>count</th>\n",
       "      <th>dtadfile</th>\n",
       "      <th>visapost</th>\n",
       "      <th>occup</th>\n",
       "      <th>entdepa</th>\n",
       "      <th>entdepd</th>\n",
       "      <th>entdepu</th>\n",
       "      <th>matflag</th>\n",
       "      <th>biryear</th>\n",
       "      <th>dtaddto</th>\n",
       "      <th>gender</th>\n",
       "      <th>insnum</th>\n",
       "      <th>airline</th>\n",
       "      <th>admnum</th>\n",
       "      <th>fltno</th>\n",
       "      <th>visatype</th>\n",
       "    </tr>\n",
       "  </thead>\n",
       "  <tbody>\n",
       "    <tr>\n",
       "      <th>1245336</th>\n",
       "      <td>2534653.0</td>\n",
       "      <td>2016.0</td>\n",
       "      <td>4.0</td>\n",
       "      <td>209.0</td>\n",
       "      <td>209.0</td>\n",
       "      <td>LOS</td>\n",
       "      <td>20558.0</td>\n",
       "      <td>1.0</td>\n",
       "      <td>CA</td>\n",
       "      <td>20561.0</td>\n",
       "      <td>37.0</td>\n",
       "      <td>1.0</td>\n",
       "      <td>1.0</td>\n",
       "      <td>20160414</td>\n",
       "      <td>NaN</td>\n",
       "      <td>NaN</td>\n",
       "      <td>G</td>\n",
       "      <td>O</td>\n",
       "      <td>NaN</td>\n",
       "      <td>M</td>\n",
       "      <td>1979.0</td>\n",
       "      <td>07122016</td>\n",
       "      <td>M</td>\n",
       "      <td>NaN</td>\n",
       "      <td>JL</td>\n",
       "      <td>56136380833</td>\n",
       "      <td>00060</td>\n",
       "      <td>WB</td>\n",
       "    </tr>\n",
       "    <tr>\n",
       "      <th>1711300</th>\n",
       "      <td>3486368.0</td>\n",
       "      <td>2016.0</td>\n",
       "      <td>4.0</td>\n",
       "      <td>110.0</td>\n",
       "      <td>110.0</td>\n",
       "      <td>DET</td>\n",
       "      <td>20545.0</td>\n",
       "      <td>9.0</td>\n",
       "      <td>MI</td>\n",
       "      <td>NaN</td>\n",
       "      <td>63.0</td>\n",
       "      <td>2.0</td>\n",
       "      <td>1.0</td>\n",
       "      <td>20160419</td>\n",
       "      <td>NaN</td>\n",
       "      <td>NaN</td>\n",
       "      <td>A</td>\n",
       "      <td>NaN</td>\n",
       "      <td>NaN</td>\n",
       "      <td>NaN</td>\n",
       "      <td>1953.0</td>\n",
       "      <td>06292016</td>\n",
       "      <td>F</td>\n",
       "      <td>6758</td>\n",
       "      <td>NaN</td>\n",
       "      <td>43868540033</td>\n",
       "      <td>NaN</td>\n",
       "      <td>WT</td>\n",
       "    </tr>\n",
       "    <tr>\n",
       "      <th>1711308</th>\n",
       "      <td>3486376.0</td>\n",
       "      <td>2016.0</td>\n",
       "      <td>4.0</td>\n",
       "      <td>110.0</td>\n",
       "      <td>110.0</td>\n",
       "      <td>DET</td>\n",
       "      <td>20545.0</td>\n",
       "      <td>9.0</td>\n",
       "      <td>MI</td>\n",
       "      <td>NaN</td>\n",
       "      <td>39.0</td>\n",
       "      <td>2.0</td>\n",
       "      <td>1.0</td>\n",
       "      <td>20160419</td>\n",
       "      <td>NaN</td>\n",
       "      <td>NaN</td>\n",
       "      <td>A</td>\n",
       "      <td>NaN</td>\n",
       "      <td>NaN</td>\n",
       "      <td>NaN</td>\n",
       "      <td>1977.0</td>\n",
       "      <td>06292016</td>\n",
       "      <td>M</td>\n",
       "      <td>6758</td>\n",
       "      <td>NaN</td>\n",
       "      <td>43868557533</td>\n",
       "      <td>NaN</td>\n",
       "      <td>WT</td>\n",
       "    </tr>\n",
       "    <tr>\n",
       "      <th>1791742</th>\n",
       "      <td>3649855.0</td>\n",
       "      <td>2016.0</td>\n",
       "      <td>4.0</td>\n",
       "      <td>999.0</td>\n",
       "      <td>110.0</td>\n",
       "      <td>LVG</td>\n",
       "      <td>20545.0</td>\n",
       "      <td>9.0</td>\n",
       "      <td>MI</td>\n",
       "      <td>NaN</td>\n",
       "      <td>NaN</td>\n",
       "      <td>2.0</td>\n",
       "      <td>1.0</td>\n",
       "      <td>20160419</td>\n",
       "      <td>NaN</td>\n",
       "      <td>NaN</td>\n",
       "      <td>A</td>\n",
       "      <td>NaN</td>\n",
       "      <td>NaN</td>\n",
       "      <td>NaN</td>\n",
       "      <td>NaN</td>\n",
       "      <td>06292016</td>\n",
       "      <td>U</td>\n",
       "      <td>7563</td>\n",
       "      <td>NaN</td>\n",
       "      <td>43868531933</td>\n",
       "      <td>NaN</td>\n",
       "      <td>WT</td>\n",
       "    </tr>\n",
       "    <tr>\n",
       "      <th>1799660</th>\n",
       "      <td>3658908.0</td>\n",
       "      <td>2016.0</td>\n",
       "      <td>4.0</td>\n",
       "      <td>111.0</td>\n",
       "      <td>316.0</td>\n",
       "      <td>HIG</td>\n",
       "      <td>20546.0</td>\n",
       "      <td>1.0</td>\n",
       "      <td>MA</td>\n",
       "      <td>NaN</td>\n",
       "      <td>NaN</td>\n",
       "      <td>2.0</td>\n",
       "      <td>1.0</td>\n",
       "      <td>20160420</td>\n",
       "      <td>NaN</td>\n",
       "      <td>NaN</td>\n",
       "      <td>A</td>\n",
       "      <td>NaN</td>\n",
       "      <td>NaN</td>\n",
       "      <td>NaN</td>\n",
       "      <td>NaN</td>\n",
       "      <td>06302016</td>\n",
       "      <td>U</td>\n",
       "      <td>2132</td>\n",
       "      <td>AH</td>\n",
       "      <td>42332806233</td>\n",
       "      <td>02700</td>\n",
       "      <td>WT</td>\n",
       "    </tr>\n",
       "  </tbody>\n",
       "</table>\n",
       "</div>"
      ],
      "text/plain": [
       "             cicid   i94yr  i94mon  i94cit  i94res i94port  arrdate  i94mode  \\\n",
       "1245336  2534653.0  2016.0     4.0   209.0   209.0     LOS  20558.0      1.0   \n",
       "1711300  3486368.0  2016.0     4.0   110.0   110.0     DET  20545.0      9.0   \n",
       "1711308  3486376.0  2016.0     4.0   110.0   110.0     DET  20545.0      9.0   \n",
       "1791742  3649855.0  2016.0     4.0   999.0   110.0     LVG  20545.0      9.0   \n",
       "1799660  3658908.0  2016.0     4.0   111.0   316.0     HIG  20546.0      1.0   \n",
       "\n",
       "        i94addr  depdate  i94bir  i94visa  count  dtadfile visapost occup  \\\n",
       "1245336      CA  20561.0    37.0      1.0    1.0  20160414      NaN   NaN   \n",
       "1711300      MI      NaN    63.0      2.0    1.0  20160419      NaN   NaN   \n",
       "1711308      MI      NaN    39.0      2.0    1.0  20160419      NaN   NaN   \n",
       "1791742      MI      NaN     NaN      2.0    1.0  20160419      NaN   NaN   \n",
       "1799660      MA      NaN     NaN      2.0    1.0  20160420      NaN   NaN   \n",
       "\n",
       "        entdepa entdepd entdepu matflag  biryear   dtaddto gender insnum  \\\n",
       "1245336       G       O     NaN       M   1979.0  07122016      M    NaN   \n",
       "1711300       A     NaN     NaN     NaN   1953.0  06292016      F   6758   \n",
       "1711308       A     NaN     NaN     NaN   1977.0  06292016      M   6758   \n",
       "1791742       A     NaN     NaN     NaN      NaN  06292016      U   7563   \n",
       "1799660       A     NaN     NaN     NaN      NaN  06302016      U   2132   \n",
       "\n",
       "        airline       admnum  fltno visatype  \n",
       "1245336      JL  56136380833  00060       WB  \n",
       "1711300     NaN  43868540033    NaN       WT  \n",
       "1711308     NaN  43868557533    NaN       WT  \n",
       "1791742     NaN  43868531933    NaN       WT  \n",
       "1799660      AH  42332806233  02700       WT  "
      ]
     },
     "execution_count": 29,
     "metadata": {},
     "output_type": "execute_result"
    }
   ],
   "source": [
    "# Is a unique admnum issued to the same person?\n",
    "result = i94_all_dup.drop_duplicates(subset=['admnum','biryear'],keep=False)\n",
    "result.head(5)"
   ]
  },
  {
   "cell_type": "code",
   "execution_count": 30,
   "metadata": {
    "editable": true
   },
   "outputs": [
    {
     "data": {
      "text/html": [
       "<div>\n",
       "<style scoped>\n",
       "    .dataframe tbody tr th:only-of-type {\n",
       "        vertical-align: middle;\n",
       "    }\n",
       "\n",
       "    .dataframe tbody tr th {\n",
       "        vertical-align: top;\n",
       "    }\n",
       "\n",
       "    .dataframe thead th {\n",
       "        text-align: right;\n",
       "    }\n",
       "</style>\n",
       "<table border=\"1\" class=\"dataframe\">\n",
       "  <thead>\n",
       "    <tr style=\"text-align: right;\">\n",
       "      <th></th>\n",
       "      <th>cicid</th>\n",
       "      <th>i94yr</th>\n",
       "      <th>i94mon</th>\n",
       "      <th>i94cit</th>\n",
       "      <th>i94res</th>\n",
       "      <th>i94port</th>\n",
       "      <th>arrdate</th>\n",
       "      <th>i94mode</th>\n",
       "      <th>i94addr</th>\n",
       "      <th>depdate</th>\n",
       "      <th>i94bir</th>\n",
       "      <th>i94visa</th>\n",
       "      <th>count</th>\n",
       "      <th>dtadfile</th>\n",
       "      <th>visapost</th>\n",
       "      <th>occup</th>\n",
       "      <th>entdepa</th>\n",
       "      <th>entdepd</th>\n",
       "      <th>entdepu</th>\n",
       "      <th>matflag</th>\n",
       "      <th>biryear</th>\n",
       "      <th>dtaddto</th>\n",
       "      <th>gender</th>\n",
       "      <th>insnum</th>\n",
       "      <th>airline</th>\n",
       "      <th>admnum</th>\n",
       "      <th>fltno</th>\n",
       "      <th>visatype</th>\n",
       "    </tr>\n",
       "  </thead>\n",
       "  <tbody>\n",
       "    <tr>\n",
       "      <th>1245336</th>\n",
       "      <td>2534653.0</td>\n",
       "      <td>2016.0</td>\n",
       "      <td>4.0</td>\n",
       "      <td>209.0</td>\n",
       "      <td>209.0</td>\n",
       "      <td>LOS</td>\n",
       "      <td>20558.0</td>\n",
       "      <td>1.0</td>\n",
       "      <td>CA</td>\n",
       "      <td>20561.0</td>\n",
       "      <td>37.0</td>\n",
       "      <td>1.0</td>\n",
       "      <td>1.0</td>\n",
       "      <td>20160414</td>\n",
       "      <td>NaN</td>\n",
       "      <td>NaN</td>\n",
       "      <td>G</td>\n",
       "      <td>O</td>\n",
       "      <td>NaN</td>\n",
       "      <td>M</td>\n",
       "      <td>1979.0</td>\n",
       "      <td>07122016</td>\n",
       "      <td>M</td>\n",
       "      <td>NaN</td>\n",
       "      <td>JL</td>\n",
       "      <td>56136380833</td>\n",
       "      <td>00060</td>\n",
       "      <td>WB</td>\n",
       "    </tr>\n",
       "    <tr>\n",
       "      <th>2989732</th>\n",
       "      <td>6014949.0</td>\n",
       "      <td>2016.0</td>\n",
       "      <td>4.0</td>\n",
       "      <td>254.0</td>\n",
       "      <td>276.0</td>\n",
       "      <td>AGA</td>\n",
       "      <td>20568.0</td>\n",
       "      <td>1.0</td>\n",
       "      <td>GU</td>\n",
       "      <td>NaN</td>\n",
       "      <td>25.0</td>\n",
       "      <td>2.0</td>\n",
       "      <td>1.0</td>\n",
       "      <td>20160617</td>\n",
       "      <td>NaN</td>\n",
       "      <td>NaN</td>\n",
       "      <td>A</td>\n",
       "      <td>NaN</td>\n",
       "      <td>NaN</td>\n",
       "      <td>NaN</td>\n",
       "      <td>1991.0</td>\n",
       "      <td>06062016</td>\n",
       "      <td>F</td>\n",
       "      <td>3934</td>\n",
       "      <td>7C</td>\n",
       "      <td>56136380833</td>\n",
       "      <td>03154</td>\n",
       "      <td>GMT</td>\n",
       "    </tr>\n",
       "  </tbody>\n",
       "</table>\n",
       "</div>"
      ],
      "text/plain": [
       "             cicid   i94yr  i94mon  i94cit  i94res i94port  arrdate  i94mode  \\\n",
       "1245336  2534653.0  2016.0     4.0   209.0   209.0     LOS  20558.0      1.0   \n",
       "2989732  6014949.0  2016.0     4.0   254.0   276.0     AGA  20568.0      1.0   \n",
       "\n",
       "        i94addr  depdate  i94bir  i94visa  count  dtadfile visapost occup  \\\n",
       "1245336      CA  20561.0    37.0      1.0    1.0  20160414      NaN   NaN   \n",
       "2989732      GU      NaN    25.0      2.0    1.0  20160617      NaN   NaN   \n",
       "\n",
       "        entdepa entdepd entdepu matflag  biryear   dtaddto gender insnum  \\\n",
       "1245336       G       O     NaN       M   1979.0  07122016      M    NaN   \n",
       "2989732       A     NaN     NaN     NaN   1991.0  06062016      F   3934   \n",
       "\n",
       "        airline       admnum  fltno visatype  \n",
       "1245336      JL  56136380833  00060       WB  \n",
       "2989732      7C  56136380833  03154      GMT  "
      ]
     },
     "execution_count": 30,
     "metadata": {},
     "output_type": "execute_result"
    }
   ],
   "source": [
    "# The answer is No, see this example, the same admnum is issued to two persons whose birth year is various.\n",
    "# The conclusion is admnum would not be considered as the primary key.\n",
    "result.loc[result.admnum==56136380833,:]"
   ]
  },
  {
   "cell_type": "code",
   "execution_count": 31,
   "metadata": {
    "editable": true
   },
   "outputs": [
    {
     "data": {
      "text/plain": [
       "20573.0    128267\n",
       "20574.0    127155\n",
       "20572.0    120971\n",
       "20560.0    114970\n",
       "20559.0    114803\n",
       "20567.0    112883\n",
       "20566.0    110304\n",
       "20545.0    108407\n",
       "20558.0    107557\n",
       "20561.0    106474\n",
       "20553.0    105930\n",
       "20565.0    105454\n",
       "20554.0    104394\n",
       "20552.0    103660\n",
       "20546.0    103196\n",
       "20562.0    100493\n",
       "20568.0    100203\n",
       "20547.0     99972\n",
       "20551.0     99763\n",
       "20569.0     99652\n",
       "20571.0     99259\n",
       "20555.0     98737\n",
       "20548.0     97653\n",
       "20564.0     95428\n",
       "20549.0     91514\n",
       "20557.0     91173\n",
       "20550.0     88273\n",
       "20570.0     88100\n",
       "20563.0     86068\n",
       "20556.0     85600\n",
       "Name: arrdate, dtype: int64"
      ]
     },
     "execution_count": 31,
     "metadata": {},
     "output_type": "execute_result"
    }
   ],
   "source": [
    "# Check arrdate, it looks like close to evenly distributed, we can use arrdate as a partition key.\n",
    "i94['arrdate'].value_counts(dropna=False)"
   ]
  },
  {
   "cell_type": "code",
   "execution_count": 32,
   "metadata": {
    "editable": true
   },
   "outputs": [
    {
     "data": {
      "text/plain": [
       "AA     310091\n",
       "UA     264271\n",
       "DL     252526\n",
       "BA     190997\n",
       "LH     120556\n",
       "VS     113384\n",
       "NaN     83627\n",
       "AF      81113\n",
       "KE      71047\n",
       "JL      69075\n",
       "AM      60307\n",
       "EK      55800\n",
       "CM      49990\n",
       "B6      49265\n",
       "AV      48921\n",
       "JJ      46277\n",
       "LA      43111\n",
       "QF      41945\n",
       "NH      40665\n",
       "KL      39978\n",
       "SK      39802\n",
       "DY      37932\n",
       "Y4      35250\n",
       "OZ      35043\n",
       "LX      33727\n",
       "CX      33096\n",
       "HA      32154\n",
       "QR      29189\n",
       "MU      28717\n",
       "TK      27567\n",
       "        ...  \n",
       "GT          1\n",
       "N6          1\n",
       "ATN         1\n",
       "LZ          1\n",
       "QA          1\n",
       "18          1\n",
       "0AZ         1\n",
       "843         1\n",
       "NRL         1\n",
       "BE          1\n",
       "B01         1\n",
       "B1M         1\n",
       "BC          1\n",
       "T1G         1\n",
       "RX          1\n",
       "AJ          1\n",
       "N9          1\n",
       "0MT         1\n",
       "DR          1\n",
       "D0          1\n",
       "L6K         1\n",
       "U0C         1\n",
       "OI          1\n",
       "XLA         1\n",
       "020         1\n",
       "13          1\n",
       "LU          1\n",
       "IJ          1\n",
       "DO          1\n",
       "MM          1\n",
       "Name: airline, Length: 535, dtype: int64"
      ]
     },
     "execution_count": 32,
     "metadata": {},
     "output_type": "execute_result"
    }
   ],
   "source": [
    "i94['airline'].value_counts(dropna=False)"
   ]
  },
  {
   "cell_type": "markdown",
   "metadata": {
    "editable": true
   },
   "source": [
    "#### FMTOUT.csv"
   ]
  },
  {
   "cell_type": "code",
   "execution_count": 33,
   "metadata": {
    "editable": true
   },
   "outputs": [
    {
     "data": {
      "text/plain": [
       "I94PRTL     660\n",
       "I94CNTYL    289\n",
       "I94ADDRL     55\n",
       "I94MODEL      4\n",
       "I94VISA       3\n",
       "Name: FMTNAME, dtype: int64"
      ]
     },
     "execution_count": 33,
     "metadata": {},
     "output_type": "execute_result"
    }
   ],
   "source": [
    "# We can split this file into multiple code lists by the variable name the code referred to\n",
    "fmtout['FMTNAME'].value_counts(dropna=False)"
   ]
  },
  {
   "cell_type": "code",
   "execution_count": 34,
   "metadata": {
    "editable": true
   },
   "outputs": [],
   "source": [
    "fmtout.loc[fmtout.FMTNAME=='I94PRTL',:].to_csv('i94port.csv',index=False)\n",
    "fmtout.loc[fmtout.FMTNAME=='I94CNTYL',:].to_csv('i94cit_res.csv',index=False)\n",
    "fmtout.loc[fmtout.FMTNAME=='I94ADDRL',:].to_csv('i94addr.csv',index=False)\n",
    "fmtout.loc[fmtout.FMTNAME=='I94MODEL',:].to_csv('i94mode.csv',index=False)\n",
    "fmtout.loc[fmtout.FMTNAME=='I94VISA',:].to_csv('i94visa.csv',index=False)"
   ]
  },
  {
   "cell_type": "markdown",
   "metadata": {
    "editable": true
   },
   "source": [
    "#### Airport codes"
   ]
  },
  {
   "cell_type": "code",
   "execution_count": 35,
   "metadata": {
    "editable": true
   },
   "outputs": [
    {
     "data": {
      "text/plain": [
       "continent       0.999956\n",
       "iata_code       0.911280\n",
       "gps_code        0.077910\n",
       "local_code      0.066837\n",
       "elevation_ft    0.010502\n",
       "municipality    0.004482\n",
       "coordinates     0.000000\n",
       "iso_region      0.000000\n",
       "iso_country     0.000000\n",
       "name            0.000000\n",
       "type            0.000000\n",
       "ident           0.000000\n",
       "dtype: float64"
      ]
     },
     "execution_count": 35,
     "metadata": {},
     "output_type": "execute_result"
    }
   ],
   "source": [
    "# Only consider US airports\n",
    "airport_code_us = airport_code.loc[airport_code.iso_country==\"US\",:]\n",
    "\n",
    "# Check the columns that have highest percentage of missing values.\n",
    "airport_code_us.isnull().mean().sort_values(ascending=False)"
   ]
  },
  {
   "cell_type": "code",
   "execution_count": 36,
   "metadata": {
    "editable": true
   },
   "outputs": [
    {
     "data": {
      "text/html": [
       "<div>\n",
       "<style scoped>\n",
       "    .dataframe tbody tr th:only-of-type {\n",
       "        vertical-align: middle;\n",
       "    }\n",
       "\n",
       "    .dataframe tbody tr th {\n",
       "        vertical-align: top;\n",
       "    }\n",
       "\n",
       "    .dataframe thead th {\n",
       "        text-align: right;\n",
       "    }\n",
       "</style>\n",
       "<table border=\"1\" class=\"dataframe\">\n",
       "  <thead>\n",
       "    <tr style=\"text-align: right;\">\n",
       "      <th></th>\n",
       "      <th>ident</th>\n",
       "      <th>type</th>\n",
       "      <th>name</th>\n",
       "      <th>elevation_ft</th>\n",
       "      <th>continent</th>\n",
       "      <th>iso_country</th>\n",
       "      <th>iso_region</th>\n",
       "      <th>municipality</th>\n",
       "      <th>gps_code</th>\n",
       "      <th>iata_code</th>\n",
       "      <th>local_code</th>\n",
       "      <th>coordinates</th>\n",
       "    </tr>\n",
       "  </thead>\n",
       "  <tbody>\n",
       "    <tr>\n",
       "      <th>0</th>\n",
       "      <td>00A</td>\n",
       "      <td>heliport</td>\n",
       "      <td>Total Rf Heliport</td>\n",
       "      <td>11.0</td>\n",
       "      <td>NaN</td>\n",
       "      <td>US</td>\n",
       "      <td>US-PA</td>\n",
       "      <td>Bensalem</td>\n",
       "      <td>00A</td>\n",
       "      <td>NaN</td>\n",
       "      <td>00A</td>\n",
       "      <td>-74.93360137939453, 40.07080078125</td>\n",
       "    </tr>\n",
       "    <tr>\n",
       "      <th>1</th>\n",
       "      <td>00AA</td>\n",
       "      <td>small_airport</td>\n",
       "      <td>Aero B Ranch Airport</td>\n",
       "      <td>3435.0</td>\n",
       "      <td>NaN</td>\n",
       "      <td>US</td>\n",
       "      <td>US-KS</td>\n",
       "      <td>Leoti</td>\n",
       "      <td>00AA</td>\n",
       "      <td>NaN</td>\n",
       "      <td>00AA</td>\n",
       "      <td>-101.473911, 38.704022</td>\n",
       "    </tr>\n",
       "    <tr>\n",
       "      <th>2</th>\n",
       "      <td>00AK</td>\n",
       "      <td>small_airport</td>\n",
       "      <td>Lowell Field</td>\n",
       "      <td>450.0</td>\n",
       "      <td>NaN</td>\n",
       "      <td>US</td>\n",
       "      <td>US-AK</td>\n",
       "      <td>Anchor Point</td>\n",
       "      <td>00AK</td>\n",
       "      <td>NaN</td>\n",
       "      <td>00AK</td>\n",
       "      <td>-151.695999146, 59.94919968</td>\n",
       "    </tr>\n",
       "    <tr>\n",
       "      <th>3</th>\n",
       "      <td>00AL</td>\n",
       "      <td>small_airport</td>\n",
       "      <td>Epps Airpark</td>\n",
       "      <td>820.0</td>\n",
       "      <td>NaN</td>\n",
       "      <td>US</td>\n",
       "      <td>US-AL</td>\n",
       "      <td>Harvest</td>\n",
       "      <td>00AL</td>\n",
       "      <td>NaN</td>\n",
       "      <td>00AL</td>\n",
       "      <td>-86.77030181884766, 34.86479949951172</td>\n",
       "    </tr>\n",
       "    <tr>\n",
       "      <th>4</th>\n",
       "      <td>00AR</td>\n",
       "      <td>closed</td>\n",
       "      <td>Newport Hospital &amp; Clinic Heliport</td>\n",
       "      <td>237.0</td>\n",
       "      <td>NaN</td>\n",
       "      <td>US</td>\n",
       "      <td>US-AR</td>\n",
       "      <td>Newport</td>\n",
       "      <td>NaN</td>\n",
       "      <td>NaN</td>\n",
       "      <td>NaN</td>\n",
       "      <td>-91.254898, 35.6087</td>\n",
       "    </tr>\n",
       "  </tbody>\n",
       "</table>\n",
       "</div>"
      ],
      "text/plain": [
       "  ident           type                                name  elevation_ft  \\\n",
       "0   00A       heliport                   Total Rf Heliport          11.0   \n",
       "1  00AA  small_airport                Aero B Ranch Airport        3435.0   \n",
       "2  00AK  small_airport                        Lowell Field         450.0   \n",
       "3  00AL  small_airport                        Epps Airpark         820.0   \n",
       "4  00AR         closed  Newport Hospital & Clinic Heliport         237.0   \n",
       "\n",
       "  continent iso_country iso_region  municipality gps_code iata_code  \\\n",
       "0       NaN          US      US-PA      Bensalem      00A       NaN   \n",
       "1       NaN          US      US-KS         Leoti     00AA       NaN   \n",
       "2       NaN          US      US-AK  Anchor Point     00AK       NaN   \n",
       "3       NaN          US      US-AL       Harvest     00AL       NaN   \n",
       "4       NaN          US      US-AR       Newport      NaN       NaN   \n",
       "\n",
       "  local_code                            coordinates  \n",
       "0        00A     -74.93360137939453, 40.07080078125  \n",
       "1       00AA                 -101.473911, 38.704022  \n",
       "2       00AK            -151.695999146, 59.94919968  \n",
       "3       00AL  -86.77030181884766, 34.86479949951172  \n",
       "4        NaN                    -91.254898, 35.6087  "
      ]
     },
     "execution_count": 36,
     "metadata": {},
     "output_type": "execute_result"
    }
   ],
   "source": [
    "airport_code_us.head(5)"
   ]
  },
  {
   "cell_type": "code",
   "execution_count": 37,
   "metadata": {
    "editable": true
   },
   "outputs": [
    {
     "name": "stdout",
     "output_type": "stream",
     "text": [
      "(2019, 12)\n"
     ]
    }
   ],
   "source": [
    "# Check if iata_code equals to local_code\n",
    "\n",
    "result = airport_code_us[airport_code_us.iata_code.notnull()]\n",
    "print(result.shape)"
   ]
  },
  {
   "cell_type": "code",
   "execution_count": 38,
   "metadata": {
    "editable": true
   },
   "outputs": [
    {
     "data": {
      "text/html": [
       "<div>\n",
       "<style scoped>\n",
       "    .dataframe tbody tr th:only-of-type {\n",
       "        vertical-align: middle;\n",
       "    }\n",
       "\n",
       "    .dataframe tbody tr th {\n",
       "        vertical-align: top;\n",
       "    }\n",
       "\n",
       "    .dataframe thead th {\n",
       "        text-align: right;\n",
       "    }\n",
       "</style>\n",
       "<table border=\"1\" class=\"dataframe\">\n",
       "  <thead>\n",
       "    <tr style=\"text-align: right;\">\n",
       "      <th></th>\n",
       "      <th>ident</th>\n",
       "      <th>type</th>\n",
       "      <th>name</th>\n",
       "      <th>elevation_ft</th>\n",
       "      <th>continent</th>\n",
       "      <th>iso_country</th>\n",
       "      <th>iso_region</th>\n",
       "      <th>municipality</th>\n",
       "      <th>gps_code</th>\n",
       "      <th>iata_code</th>\n",
       "      <th>local_code</th>\n",
       "      <th>coordinates</th>\n",
       "    </tr>\n",
       "  </thead>\n",
       "  <tbody>\n",
       "    <tr>\n",
       "      <th>440</th>\n",
       "      <td>07FA</td>\n",
       "      <td>small_airport</td>\n",
       "      <td>Ocean Reef Club Airport</td>\n",
       "      <td>8.0</td>\n",
       "      <td>NaN</td>\n",
       "      <td>US</td>\n",
       "      <td>US-FL</td>\n",
       "      <td>Key Largo</td>\n",
       "      <td>07FA</td>\n",
       "      <td>OCA</td>\n",
       "      <td>07FA</td>\n",
       "      <td>-80.274803161621, 25.325399398804</td>\n",
       "    </tr>\n",
       "  </tbody>\n",
       "</table>\n",
       "</div>"
      ],
      "text/plain": [
       "    ident           type                     name  elevation_ft continent  \\\n",
       "440  07FA  small_airport  Ocean Reef Club Airport           8.0       NaN   \n",
       "\n",
       "    iso_country iso_region municipality gps_code iata_code local_code  \\\n",
       "440          US      US-FL    Key Largo     07FA       OCA       07FA   \n",
       "\n",
       "                           coordinates  \n",
       "440  -80.274803161621, 25.325399398804  "
      ]
     },
     "execution_count": 38,
     "metadata": {},
     "output_type": "execute_result"
    }
   ],
   "source": [
    "# The answer is No, see this example\n",
    "result[result.iata_code!=result.local_code].head(1)"
   ]
  },
  {
   "cell_type": "code",
   "execution_count": 39,
   "metadata": {
    "editable": true
   },
   "outputs": [
    {
     "data": {
      "text/html": [
       "<div>\n",
       "<style scoped>\n",
       "    .dataframe tbody tr th:only-of-type {\n",
       "        vertical-align: middle;\n",
       "    }\n",
       "\n",
       "    .dataframe tbody tr th {\n",
       "        vertical-align: top;\n",
       "    }\n",
       "\n",
       "    .dataframe thead th {\n",
       "        text-align: right;\n",
       "    }\n",
       "</style>\n",
       "<table border=\"1\" class=\"dataframe\">\n",
       "  <thead>\n",
       "    <tr style=\"text-align: right;\">\n",
       "      <th></th>\n",
       "      <th>ident</th>\n",
       "      <th>type</th>\n",
       "      <th>name</th>\n",
       "      <th>elevation_ft</th>\n",
       "      <th>continent</th>\n",
       "      <th>iso_country</th>\n",
       "      <th>iso_region</th>\n",
       "      <th>municipality</th>\n",
       "      <th>gps_code</th>\n",
       "      <th>iata_code</th>\n",
       "      <th>local_code</th>\n",
       "      <th>coordinates</th>\n",
       "    </tr>\n",
       "  </thead>\n",
       "  <tbody>\n",
       "    <tr>\n",
       "      <th>42481</th>\n",
       "      <td>SFR</td>\n",
       "      <td>closed</td>\n",
       "      <td>San Fernando Airport</td>\n",
       "      <td>1168.0</td>\n",
       "      <td>NaN</td>\n",
       "      <td>US</td>\n",
       "      <td>US-CA</td>\n",
       "      <td>Los Angeles</td>\n",
       "      <td>NaN</td>\n",
       "      <td>SFR</td>\n",
       "      <td>NaN</td>\n",
       "      <td>-118.422, 34.289</td>\n",
       "    </tr>\n",
       "  </tbody>\n",
       "</table>\n",
       "</div>"
      ],
      "text/plain": [
       "      ident    type                  name  elevation_ft continent iso_country  \\\n",
       "42481   SFR  closed  San Fernando Airport        1168.0       NaN          US   \n",
       "\n",
       "      iso_region municipality gps_code iata_code local_code       coordinates  \n",
       "42481      US-CA  Los Angeles      NaN       SFR        NaN  -118.422, 34.289  "
      ]
     },
     "execution_count": 39,
     "metadata": {},
     "output_type": "execute_result"
    }
   ],
   "source": [
    "# Also, the i94port does not equal to iata_code, an example is:\n",
    "# SFR is the entry port name of San Francisco, while the identical iata_code means San Fernando Airport in Los Angeles, rather than San Francisco International Airport.\n",
    "# Hence, it's hard to find a key to connect with the I94 immigration table where I don't see any airport code information\n",
    "# If I found the port of entry associated with the airport code, I would use that table instead.\n",
    "# The conclusion is I would not include airport codes in the data lake to prevent such a bad matching mentioned above.\n",
    "result[result.iata_code==\"SFR\"]"
   ]
  },
  {
   "cell_type": "code",
   "execution_count": 40,
   "metadata": {
    "editable": true
   },
   "outputs": [
    {
     "data": {
      "text/plain": [
       "array([\"Los Angeles County Sheriff's Department Heliport\",\n",
       "       'Drew Medical Center Heliport', 'Good Samaritan Hospital Heliport',\n",
       "       'Devonshire Area Heliport', 'ABC-TV Heliport',\n",
       "       'L A Co Mens Detention Cntr-Main Jail Heliport',\n",
       "       'Litton Industries Heliport',\n",
       "       'Childrens Hospital Los Angeles Heliport',\n",
       "       'K & T 660 Figueroa Partners Heliport',\n",
       "       'Dept. Of Water And Power Granada Hills Heliport',\n",
       "       'Department Of Water & Power Los Angeles Heliport',\n",
       "       'Los Angeles County/USC Medical Center Heliport',\n",
       "       'J.H. Snyder Co. Iii Heliport',\n",
       "       'Metropolitan Water District Heliport', 'Chase Plaza Heliport',\n",
       "       'Raleigh Enterprises Heliport',\n",
       "       'Los Angeles County Sheriffs Dept South LA Heliport',\n",
       "       'Van Nuys County Court Heliport', 'UCLA Wilshire Glendon Heliport',\n",
       "       'Wilshire Area Heliport', 'Parker Center Heliport',\n",
       "       'AT&T Center Heliport', 'Lapd Hooper Heliport',\n",
       "       'City National Bank Heliport',\n",
       "       'Randy Champe-Gary Howe Memorial Heliport',\n",
       "       'Terminal Annex Heliport', 'Sunset-Glendale Heliport',\n",
       "       'Los Angeles Times-La Heliport',\n",
       "       'Merle Norman Cosmetics Bldg 3 Heliport',\n",
       "       'Jay Stephen Hooper Memorial Heliport', 'City Hall Heliport',\n",
       "       'Edward Roybal Federal Bldg Heliport', 'Engine Co Nr 108 Heliport',\n",
       "       'Bank of America Data Center Heliport',\n",
       "       'Hotel New Otani Los Angeles Heliport',\n",
       "       'UCLA Emergency Medicine Department Heliport',\n",
       "       'The Wilshire Thayer Heliport', 'Boeing Canoga Park Heliport',\n",
       "       'Beverly Center Heliport', 'Century City Heliport',\n",
       "       'City National Plaza Heliport', 'R I Ai Canoga Park B/2 Helistop',\n",
       "       'United Ca Bank Data Processing Ops Heliport',\n",
       "       'Everest & Jennings Helistop Nr 1 Heliport',\n",
       "       'California Mart Heliport', 'Cedars-Sinai Medical Center Heliport',\n",
       "       'Northridge Hospital Heliport', 'Usc University Hospital Heliport',\n",
       "       'Biltmore Hotel Heliport',\n",
       "       'St Vincent Professional Office Building Heliport',\n",
       "       'Wells Fargo-Cv Heliport', 'Caltrans District 7 Heliport',\n",
       "       'Fib Administration & Operations Building Heliport',\n",
       "       'International Tower Heliport', 'Westwood Gateway Heliport',\n",
       "       'Westside Towers Heliport',\n",
       "       'Queen of Angel-Hollywood Presbyterian Hospital Heliport',\n",
       "       'Hughes/Corporate Heliport',\n",
       "       'The Westin Bonaventure Hotel Heliport',\n",
       "       'Operating Engineers Pension Trust Bldg Heliport',\n",
       "       'Pacoima Dam Heliport', 'Los Angeles International Airport',\n",
       "       'Whiteman Airport', 'San Fernando Airport',\n",
       "       'Ronald Reagan UCLA Medical Center Helistop', '23R Airport'], dtype=object)"
      ]
     },
     "execution_count": 40,
     "metadata": {},
     "output_type": "execute_result"
    }
   ],
   "source": [
    "# Another example is that Los Angeles has many airports, a port code LOS can indicate any airport in the city.\n",
    "# Though we know it must be the international airport LAX but the data does not tell me.\n",
    "# I need the port address to locate the port of entry, then I would know which airport it locates at.\n",
    "result = airport_code_us[airport_code_us.municipality==\"Los Angeles\"]\n",
    "result['name'].unique()"
   ]
  },
  {
   "cell_type": "markdown",
   "metadata": {
    "editable": true
   },
   "source": [
    "#### US cities demographics"
   ]
  },
  {
   "cell_type": "code",
   "execution_count": 41,
   "metadata": {
    "editable": true
   },
   "outputs": [
    {
     "data": {
      "text/html": [
       "<div>\n",
       "<style scoped>\n",
       "    .dataframe tbody tr th:only-of-type {\n",
       "        vertical-align: middle;\n",
       "    }\n",
       "\n",
       "    .dataframe tbody tr th {\n",
       "        vertical-align: top;\n",
       "    }\n",
       "\n",
       "    .dataframe thead th {\n",
       "        text-align: right;\n",
       "    }\n",
       "</style>\n",
       "<table border=\"1\" class=\"dataframe\">\n",
       "  <thead>\n",
       "    <tr style=\"text-align: right;\">\n",
       "      <th></th>\n",
       "      <th>City</th>\n",
       "      <th>State</th>\n",
       "      <th>Median Age</th>\n",
       "      <th>Male Population</th>\n",
       "      <th>Female Population</th>\n",
       "      <th>Total Population</th>\n",
       "      <th>Number of Veterans</th>\n",
       "      <th>Foreign-born</th>\n",
       "      <th>Average Household Size</th>\n",
       "      <th>State Code</th>\n",
       "      <th>Race</th>\n",
       "      <th>Count</th>\n",
       "    </tr>\n",
       "  </thead>\n",
       "  <tbody>\n",
       "    <tr>\n",
       "      <th>0</th>\n",
       "      <td>Silver Spring</td>\n",
       "      <td>Maryland</td>\n",
       "      <td>33.8</td>\n",
       "      <td>40601.0</td>\n",
       "      <td>41862.0</td>\n",
       "      <td>82463</td>\n",
       "      <td>1562.0</td>\n",
       "      <td>30908.0</td>\n",
       "      <td>2.60</td>\n",
       "      <td>MD</td>\n",
       "      <td>Hispanic or Latino</td>\n",
       "      <td>25924</td>\n",
       "    </tr>\n",
       "    <tr>\n",
       "      <th>1</th>\n",
       "      <td>Quincy</td>\n",
       "      <td>Massachusetts</td>\n",
       "      <td>41.0</td>\n",
       "      <td>44129.0</td>\n",
       "      <td>49500.0</td>\n",
       "      <td>93629</td>\n",
       "      <td>4147.0</td>\n",
       "      <td>32935.0</td>\n",
       "      <td>2.39</td>\n",
       "      <td>MA</td>\n",
       "      <td>White</td>\n",
       "      <td>58723</td>\n",
       "    </tr>\n",
       "  </tbody>\n",
       "</table>\n",
       "</div>"
      ],
      "text/plain": [
       "            City          State  Median Age  Male Population  \\\n",
       "0  Silver Spring       Maryland        33.8          40601.0   \n",
       "1         Quincy  Massachusetts        41.0          44129.0   \n",
       "\n",
       "   Female Population  Total Population  Number of Veterans  Foreign-born  \\\n",
       "0            41862.0             82463              1562.0       30908.0   \n",
       "1            49500.0             93629              4147.0       32935.0   \n",
       "\n",
       "   Average Household Size State Code                Race  Count  \n",
       "0                    2.60         MD  Hispanic or Latino  25924  \n",
       "1                    2.39         MA               White  58723  "
      ]
     },
     "execution_count": 41,
     "metadata": {},
     "output_type": "execute_result"
    }
   ],
   "source": [
    "us_city.head(2)"
   ]
  },
  {
   "cell_type": "code",
   "execution_count": 42,
   "metadata": {
    "editable": true
   },
   "outputs": [
    {
     "data": {
      "text/html": [
       "<div>\n",
       "<style scoped>\n",
       "    .dataframe tbody tr th:only-of-type {\n",
       "        vertical-align: middle;\n",
       "    }\n",
       "\n",
       "    .dataframe tbody tr th {\n",
       "        vertical-align: top;\n",
       "    }\n",
       "\n",
       "    .dataframe thead th {\n",
       "        text-align: right;\n",
       "    }\n",
       "</style>\n",
       "<table border=\"1\" class=\"dataframe\">\n",
       "  <thead>\n",
       "    <tr style=\"text-align: right;\">\n",
       "      <th></th>\n",
       "      <th>City</th>\n",
       "      <th>State</th>\n",
       "      <th>Median Age</th>\n",
       "      <th>Male Population</th>\n",
       "      <th>Female Population</th>\n",
       "      <th>Total Population</th>\n",
       "      <th>Number of Veterans</th>\n",
       "      <th>Foreign-born</th>\n",
       "      <th>Average Household Size</th>\n",
       "      <th>State Code</th>\n",
       "      <th>Race</th>\n",
       "      <th>Count</th>\n",
       "    </tr>\n",
       "  </thead>\n",
       "  <tbody>\n",
       "    <tr>\n",
       "      <th>565</th>\n",
       "      <td>Saint Paul</td>\n",
       "      <td>Minnesota</td>\n",
       "      <td>31.5</td>\n",
       "      <td>149547.0</td>\n",
       "      <td>151293.0</td>\n",
       "      <td>300840</td>\n",
       "      <td>10548.0</td>\n",
       "      <td>56514.0</td>\n",
       "      <td>2.58</td>\n",
       "      <td>MN</td>\n",
       "      <td>Hispanic or Latino</td>\n",
       "      <td>27307</td>\n",
       "    </tr>\n",
       "    <tr>\n",
       "      <th>734</th>\n",
       "      <td>Saint Paul</td>\n",
       "      <td>Minnesota</td>\n",
       "      <td>31.5</td>\n",
       "      <td>149547.0</td>\n",
       "      <td>151293.0</td>\n",
       "      <td>300840</td>\n",
       "      <td>10548.0</td>\n",
       "      <td>56514.0</td>\n",
       "      <td>2.58</td>\n",
       "      <td>MN</td>\n",
       "      <td>Asian</td>\n",
       "      <td>58174</td>\n",
       "    </tr>\n",
       "    <tr>\n",
       "      <th>1195</th>\n",
       "      <td>Saint Paul</td>\n",
       "      <td>Minnesota</td>\n",
       "      <td>31.5</td>\n",
       "      <td>149547.0</td>\n",
       "      <td>151293.0</td>\n",
       "      <td>300840</td>\n",
       "      <td>10548.0</td>\n",
       "      <td>56514.0</td>\n",
       "      <td>2.58</td>\n",
       "      <td>MN</td>\n",
       "      <td>White</td>\n",
       "      <td>191369</td>\n",
       "    </tr>\n",
       "    <tr>\n",
       "      <th>1875</th>\n",
       "      <td>Saint Paul</td>\n",
       "      <td>Minnesota</td>\n",
       "      <td>31.5</td>\n",
       "      <td>149547.0</td>\n",
       "      <td>151293.0</td>\n",
       "      <td>300840</td>\n",
       "      <td>10548.0</td>\n",
       "      <td>56514.0</td>\n",
       "      <td>2.58</td>\n",
       "      <td>MN</td>\n",
       "      <td>Black or African-American</td>\n",
       "      <td>54665</td>\n",
       "    </tr>\n",
       "    <tr>\n",
       "      <th>2179</th>\n",
       "      <td>Saint Paul</td>\n",
       "      <td>Minnesota</td>\n",
       "      <td>31.5</td>\n",
       "      <td>149547.0</td>\n",
       "      <td>151293.0</td>\n",
       "      <td>300840</td>\n",
       "      <td>10548.0</td>\n",
       "      <td>56514.0</td>\n",
       "      <td>2.58</td>\n",
       "      <td>MN</td>\n",
       "      <td>American Indian and Alaska Native</td>\n",
       "      <td>6858</td>\n",
       "    </tr>\n",
       "  </tbody>\n",
       "</table>\n",
       "</div>"
      ],
      "text/plain": [
       "            City      State  Median Age  Male Population  Female Population  \\\n",
       "565   Saint Paul  Minnesota        31.5         149547.0           151293.0   \n",
       "734   Saint Paul  Minnesota        31.5         149547.0           151293.0   \n",
       "1195  Saint Paul  Minnesota        31.5         149547.0           151293.0   \n",
       "1875  Saint Paul  Minnesota        31.5         149547.0           151293.0   \n",
       "2179  Saint Paul  Minnesota        31.5         149547.0           151293.0   \n",
       "\n",
       "      Total Population  Number of Veterans  Foreign-born  \\\n",
       "565             300840             10548.0       56514.0   \n",
       "734             300840             10548.0       56514.0   \n",
       "1195            300840             10548.0       56514.0   \n",
       "1875            300840             10548.0       56514.0   \n",
       "2179            300840             10548.0       56514.0   \n",
       "\n",
       "      Average Household Size State Code                               Race  \\\n",
       "565                     2.58         MN                 Hispanic or Latino   \n",
       "734                     2.58         MN                              Asian   \n",
       "1195                    2.58         MN                              White   \n",
       "1875                    2.58         MN          Black or African-American   \n",
       "2179                    2.58         MN  American Indian and Alaska Native   \n",
       "\n",
       "       Count  \n",
       "565    27307  \n",
       "734    58174  \n",
       "1195  191369  \n",
       "1875   54665  \n",
       "2179    6858  "
      ]
     },
     "execution_count": 42,
     "metadata": {},
     "output_type": "execute_result"
    }
   ],
   "source": [
    "# Check the city St. Paul\n",
    "# It looks like the city name here is Saint Paul rather than ST PAUL which appears from the port code.\n",
    "# City names here are not exactly matching the port codes. \n",
    "# It requires more data cleaning jobs in order to match all port location city.\n",
    "# Indeed, I don't think the demographic dataset is meaningful information \n",
    "# Because people can enter US from a port but they can transfer a flight heading to their destination city.\n",
    "# At this point, I would not include this dataset.\n",
    "us_city[us_city.City.str.contains(\"Paul\")]"
   ]
  },
  {
   "cell_type": "code",
   "execution_count": 43,
   "metadata": {
    "editable": true
   },
   "outputs": [
    {
     "data": {
      "text/html": [
       "<div>\n",
       "<style scoped>\n",
       "    .dataframe tbody tr th:only-of-type {\n",
       "        vertical-align: middle;\n",
       "    }\n",
       "\n",
       "    .dataframe tbody tr th {\n",
       "        vertical-align: top;\n",
       "    }\n",
       "\n",
       "    .dataframe thead th {\n",
       "        text-align: right;\n",
       "    }\n",
       "</style>\n",
       "<table border=\"1\" class=\"dataframe\">\n",
       "  <thead>\n",
       "    <tr style=\"text-align: right;\">\n",
       "      <th></th>\n",
       "      <th>City</th>\n",
       "      <th>State</th>\n",
       "      <th>Median Age</th>\n",
       "      <th>Male Population</th>\n",
       "      <th>Female Population</th>\n",
       "      <th>Total Population</th>\n",
       "      <th>Number of Veterans</th>\n",
       "      <th>Foreign-born</th>\n",
       "      <th>Average Household Size</th>\n",
       "      <th>State Code</th>\n",
       "      <th>Race</th>\n",
       "      <th>Count</th>\n",
       "    </tr>\n",
       "  </thead>\n",
       "  <tbody>\n",
       "    <tr>\n",
       "      <th>274</th>\n",
       "      <td>Pasco</td>\n",
       "      <td>Washington</td>\n",
       "      <td>28.6</td>\n",
       "      <td>35298.0</td>\n",
       "      <td>32799.0</td>\n",
       "      <td>68097</td>\n",
       "      <td>2052.0</td>\n",
       "      <td>16265.0</td>\n",
       "      <td>3.45</td>\n",
       "      <td>WA</td>\n",
       "      <td>Asian</td>\n",
       "      <td>2215</td>\n",
       "    </tr>\n",
       "    <tr>\n",
       "      <th>1102</th>\n",
       "      <td>Pasco</td>\n",
       "      <td>Washington</td>\n",
       "      <td>28.6</td>\n",
       "      <td>35298.0</td>\n",
       "      <td>32799.0</td>\n",
       "      <td>68097</td>\n",
       "      <td>2052.0</td>\n",
       "      <td>16265.0</td>\n",
       "      <td>3.45</td>\n",
       "      <td>WA</td>\n",
       "      <td>Hispanic or Latino</td>\n",
       "      <td>38883</td>\n",
       "    </tr>\n",
       "    <tr>\n",
       "      <th>1196</th>\n",
       "      <td>Pasco</td>\n",
       "      <td>Washington</td>\n",
       "      <td>28.6</td>\n",
       "      <td>35298.0</td>\n",
       "      <td>32799.0</td>\n",
       "      <td>68097</td>\n",
       "      <td>2052.0</td>\n",
       "      <td>16265.0</td>\n",
       "      <td>3.45</td>\n",
       "      <td>WA</td>\n",
       "      <td>White</td>\n",
       "      <td>55741</td>\n",
       "    </tr>\n",
       "    <tr>\n",
       "      <th>2332</th>\n",
       "      <td>Pasco</td>\n",
       "      <td>Washington</td>\n",
       "      <td>28.6</td>\n",
       "      <td>35298.0</td>\n",
       "      <td>32799.0</td>\n",
       "      <td>68097</td>\n",
       "      <td>2052.0</td>\n",
       "      <td>16265.0</td>\n",
       "      <td>3.45</td>\n",
       "      <td>WA</td>\n",
       "      <td>Black or African-American</td>\n",
       "      <td>2265</td>\n",
       "    </tr>\n",
       "    <tr>\n",
       "      <th>2649</th>\n",
       "      <td>Pasco</td>\n",
       "      <td>Washington</td>\n",
       "      <td>28.6</td>\n",
       "      <td>35298.0</td>\n",
       "      <td>32799.0</td>\n",
       "      <td>68097</td>\n",
       "      <td>2052.0</td>\n",
       "      <td>16265.0</td>\n",
       "      <td>3.45</td>\n",
       "      <td>WA</td>\n",
       "      <td>American Indian and Alaska Native</td>\n",
       "      <td>1054</td>\n",
       "    </tr>\n",
       "  </tbody>\n",
       "</table>\n",
       "</div>"
      ],
      "text/plain": [
       "       City       State  Median Age  Male Population  Female Population  \\\n",
       "274   Pasco  Washington        28.6          35298.0            32799.0   \n",
       "1102  Pasco  Washington        28.6          35298.0            32799.0   \n",
       "1196  Pasco  Washington        28.6          35298.0            32799.0   \n",
       "2332  Pasco  Washington        28.6          35298.0            32799.0   \n",
       "2649  Pasco  Washington        28.6          35298.0            32799.0   \n",
       "\n",
       "      Total Population  Number of Veterans  Foreign-born  \\\n",
       "274              68097              2052.0       16265.0   \n",
       "1102             68097              2052.0       16265.0   \n",
       "1196             68097              2052.0       16265.0   \n",
       "2332             68097              2052.0       16265.0   \n",
       "2649             68097              2052.0       16265.0   \n",
       "\n",
       "      Average Household Size State Code                               Race  \\\n",
       "274                     3.45         WA                              Asian   \n",
       "1102                    3.45         WA                 Hispanic or Latino   \n",
       "1196                    3.45         WA                              White   \n",
       "2332                    3.45         WA          Black or African-American   \n",
       "2649                    3.45         WA  American Indian and Alaska Native   \n",
       "\n",
       "      Count  \n",
       "274    2215  \n",
       "1102  38883  \n",
       "1196  55741  \n",
       "2332   2265  \n",
       "2649   1054  "
      ]
     },
     "execution_count": 43,
     "metadata": {},
     "output_type": "execute_result"
    }
   ],
   "source": [
    "# Another example\n",
    "# City name here is Pasco, but port code indicates it's TRI-CITIES- PASCO\n",
    "# I don't think it's good to include this dataset into the data lake since the connection between city and port is not clear enough.\n",
    "us_city[us_city.City.str.contains(\"Pasco\")]"
   ]
  },
  {
   "cell_type": "markdown",
   "metadata": {
    "editable": true
   },
   "source": [
    "#### Airlines"
   ]
  },
  {
   "cell_type": "code",
   "execution_count": 44,
   "metadata": {
    "editable": true
   },
   "outputs": [
    {
     "data": {
      "text/html": [
       "<div>\n",
       "<style scoped>\n",
       "    .dataframe tbody tr th:only-of-type {\n",
       "        vertical-align: middle;\n",
       "    }\n",
       "\n",
       "    .dataframe tbody tr th {\n",
       "        vertical-align: top;\n",
       "    }\n",
       "\n",
       "    .dataframe thead th {\n",
       "        text-align: right;\n",
       "    }\n",
       "</style>\n",
       "<table border=\"1\" class=\"dataframe\">\n",
       "  <thead>\n",
       "    <tr style=\"text-align: right;\">\n",
       "      <th></th>\n",
       "      <th>AirlineName</th>\n",
       "      <th>IATADesignator</th>\n",
       "      <th>3-DigitCode</th>\n",
       "      <th>ICAODesignator</th>\n",
       "      <th>Country/Territory</th>\n",
       "    </tr>\n",
       "  </thead>\n",
       "  <tbody>\n",
       "    <tr>\n",
       "      <th>117</th>\n",
       "      <td>Egyptair</td>\n",
       "      <td>MS</td>\n",
       "      <td>077</td>\n",
       "      <td>MSR</td>\n",
       "      <td>Egypt</td>\n",
       "    </tr>\n",
       "    <tr>\n",
       "      <th>170</th>\n",
       "      <td>LATAM Airlines Argentina</td>\n",
       "      <td>4M</td>\n",
       "      <td>469</td>\n",
       "      <td>DSM</td>\n",
       "      <td>Argentina</td>\n",
       "    </tr>\n",
       "    <tr>\n",
       "      <th>287</th>\n",
       "      <td>Volotea</td>\n",
       "      <td>V7</td>\n",
       "      <td>712</td>\n",
       "      <td>VOE</td>\n",
       "      <td>Spain</td>\n",
       "    </tr>\n",
       "    <tr>\n",
       "      <th>280</th>\n",
       "      <td>Uzbekistan Airways</td>\n",
       "      <td>HY</td>\n",
       "      <td>250</td>\n",
       "      <td>UZB</td>\n",
       "      <td>Uzbekistan</td>\n",
       "    </tr>\n",
       "    <tr>\n",
       "      <th>216</th>\n",
       "      <td>Philippine Airlines</td>\n",
       "      <td>PR</td>\n",
       "      <td>079</td>\n",
       "      <td>PAL</td>\n",
       "      <td>Philippines</td>\n",
       "    </tr>\n",
       "  </tbody>\n",
       "</table>\n",
       "</div>"
      ],
      "text/plain": [
       "                  AirlineName IATADesignator 3-DigitCode ICAODesignator  \\\n",
       "117                  Egyptair             MS         077            MSR   \n",
       "170  LATAM Airlines Argentina             4M         469            DSM   \n",
       "287                   Volotea             V7         712            VOE   \n",
       "280        Uzbekistan Airways             HY         250            UZB   \n",
       "216       Philippine Airlines             PR         079            PAL   \n",
       "\n",
       "    Country/Territory  \n",
       "117             Egypt  \n",
       "170         Argentina  \n",
       "287             Spain  \n",
       "280        Uzbekistan  \n",
       "216       Philippines  "
      ]
     },
     "execution_count": 44,
     "metadata": {},
     "output_type": "execute_result"
    }
   ],
   "source": [
    "airlines.sample(5)"
   ]
  },
  {
   "cell_type": "code",
   "execution_count": 45,
   "metadata": {
    "editable": true
   },
   "outputs": [
    {
     "data": {
      "text/html": [
       "<div>\n",
       "<style scoped>\n",
       "    .dataframe tbody tr th:only-of-type {\n",
       "        vertical-align: middle;\n",
       "    }\n",
       "\n",
       "    .dataframe tbody tr th {\n",
       "        vertical-align: top;\n",
       "    }\n",
       "\n",
       "    .dataframe thead th {\n",
       "        text-align: right;\n",
       "    }\n",
       "</style>\n",
       "<table border=\"1\" class=\"dataframe\">\n",
       "  <thead>\n",
       "    <tr style=\"text-align: right;\">\n",
       "      <th></th>\n",
       "      <th>AirlineName</th>\n",
       "      <th>IATADesignator</th>\n",
       "      <th>3-DigitCode</th>\n",
       "      <th>ICAODesignator</th>\n",
       "      <th>Country/Territory</th>\n",
       "    </tr>\n",
       "  </thead>\n",
       "  <tbody>\n",
       "    <tr>\n",
       "      <th>52</th>\n",
       "      <td>American Airlines</td>\n",
       "      <td>AA</td>\n",
       "      <td>001</td>\n",
       "      <td>AAL</td>\n",
       "      <td>United States</td>\n",
       "    </tr>\n",
       "  </tbody>\n",
       "</table>\n",
       "</div>"
      ],
      "text/plain": [
       "          AirlineName IATADesignator 3-DigitCode ICAODesignator  \\\n",
       "52  American Airlines             AA         001            AAL   \n",
       "\n",
       "   Country/Territory  \n",
       "52     United States  "
      ]
     },
     "execution_count": 45,
     "metadata": {},
     "output_type": "execute_result"
    }
   ],
   "source": [
    "# The two-digit IATA code seems to match the airline code at I94 records\n",
    "airlines[airlines['IATADesignator']==\"AA\"]"
   ]
  },
  {
   "cell_type": "code",
   "execution_count": 46,
   "metadata": {
    "editable": true
   },
   "outputs": [
    {
     "data": {
      "text/plain": [
       "LH     2\n",
       "G5     1\n",
       "MP     1\n",
       "PX     1\n",
       "WX     1\n",
       "KU     1\n",
       "OS     1\n",
       "DR     1\n",
       "FV     1\n",
       "AF     1\n",
       "SK     1\n",
       "YW     1\n",
       "RH     1\n",
       "SC     1\n",
       "BV     1\n",
       "5K     1\n",
       "AW     1\n",
       "BA     1\n",
       "ZH     1\n",
       "UP     1\n",
       "TN     1\n",
       "AS     1\n",
       "KE     1\n",
       "W8     1\n",
       "PZ     1\n",
       "LA     1\n",
       "MF     1\n",
       "KY     1\n",
       "TW     1\n",
       "GJ     1\n",
       "      ..\n",
       "4Z     1\n",
       "SV     1\n",
       "G9     1\n",
       "M3     1\n",
       "W7     1\n",
       "OD     1\n",
       "CV     1\n",
       "CZ     1\n",
       "UX     1\n",
       "WE     1\n",
       "BK     1\n",
       "ES*    1\n",
       "GX     1\n",
       "TP     1\n",
       "EB     1\n",
       "ZE     1\n",
       "PG     1\n",
       "M4     1\n",
       "V3     1\n",
       "AH     1\n",
       "WF     1\n",
       "QY     1\n",
       "5O     1\n",
       "5C     1\n",
       "PY     1\n",
       "AZ     1\n",
       "SU     1\n",
       "XC     1\n",
       "FU     1\n",
       "EP     1\n",
       "Name: IATADesignator, Length: 296, dtype: int64"
      ]
     },
     "execution_count": 46,
     "metadata": {},
     "output_type": "execute_result"
    }
   ],
   "source": [
    "# It looks like i94 airline is using IATA code, perhaps we can find them all from this code list.\n",
    "# Though there are other 3-digit code I don't know what they mean, at least we can match the two-digit.\n",
    "airlines['IATADesignator'].value_counts(dropna=False)"
   ]
  },
  {
   "cell_type": "code",
   "execution_count": 47,
   "metadata": {
    "editable": true
   },
   "outputs": [
    {
     "data": {
      "text/html": [
       "<div>\n",
       "<style scoped>\n",
       "    .dataframe tbody tr th:only-of-type {\n",
       "        vertical-align: middle;\n",
       "    }\n",
       "\n",
       "    .dataframe tbody tr th {\n",
       "        vertical-align: top;\n",
       "    }\n",
       "\n",
       "    .dataframe thead th {\n",
       "        text-align: right;\n",
       "    }\n",
       "</style>\n",
       "<table border=\"1\" class=\"dataframe\">\n",
       "  <thead>\n",
       "    <tr style=\"text-align: right;\">\n",
       "      <th></th>\n",
       "      <th>AirlineName</th>\n",
       "      <th>IATADesignator</th>\n",
       "      <th>3-DigitCode</th>\n",
       "      <th>ICAODesignator</th>\n",
       "      <th>Country/Territory</th>\n",
       "    </tr>\n",
       "  </thead>\n",
       "  <tbody>\n",
       "    <tr>\n",
       "      <th>23</th>\n",
       "      <td>Air Guilin</td>\n",
       "      <td>GT</td>\n",
       "      <td>730</td>\n",
       "      <td>CGH</td>\n",
       "      <td>China (People's Republic of)</td>\n",
       "    </tr>\n",
       "  </tbody>\n",
       "</table>\n",
       "</div>"
      ],
      "text/plain": [
       "   AirlineName IATADesignator 3-DigitCode ICAODesignator  \\\n",
       "23  Air Guilin             GT         730            CGH   \n",
       "\n",
       "               Country/Territory  \n",
       "23  China (People's Republic of)  "
      ]
     },
     "execution_count": 47,
     "metadata": {},
     "output_type": "execute_result"
    }
   ],
   "source": [
    "airlines[airlines['IATADesignator']=='GT']"
   ]
  },
  {
   "cell_type": "markdown",
   "metadata": {
    "editable": true
   },
   "source": [
    "#### Cleaning Steps\n",
    "Document steps necessary to clean the data"
   ]
  },
  {
   "cell_type": "markdown",
   "metadata": {
    "editable": true
   },
   "source": [
    "#### i94port.csv"
   ]
  },
  {
   "cell_type": "code",
   "execution_count": 48,
   "metadata": {
    "editable": true
   },
   "outputs": [],
   "source": [
    "# Split the label into city and state\n",
    "i94port = pd.read_csv(\"i94port.csv\")"
   ]
  },
  {
   "cell_type": "code",
   "execution_count": 49,
   "metadata": {
    "editable": true
   },
   "outputs": [],
   "source": [
    "i94port['city'] = i94port['LABEL'].apply(lambda x: x.split(',')[0] if ',' in x else '')\n",
    "i94port['state'] = i94port['LABEL'].apply(lambda x: x.split(',')[1] if ',' in x else '')"
   ]
  },
  {
   "cell_type": "code",
   "execution_count": 50,
   "metadata": {
    "editable": true
   },
   "outputs": [],
   "source": [
    "i94port.to_csv('i94port.csv',index=False)"
   ]
  },
  {
   "cell_type": "markdown",
   "metadata": {
    "editable": true
   },
   "source": [
    "### Step 3: Define the Data Model\n",
    "#### 3.1 Conceptual Data Model\n",
    "Map out the conceptual data model and explain why you chose that model\n",
    "\n",
    "Star Schema model is chosen to be implemented in this project. The statistician and data scientist can make simple queries on the data and perform high level analysis. \n",
    "\n",
    "The fact table contains i94 immigration data extracted from the i94 immigration dataset:\n",
    "\n",
    "##### i94\n",
    "\n",
    "- id: A unique case Id combined with year, month, and cicid as primary key\n",
    "- year: Year of arrival, extracted from arrival_date. \n",
    "- month: Month of arrival, extracted from arrival_date.\n",
    "- day: Day of arrival, extracted from arrival_date. \n",
    "- citizen_code: 3 digit Visitor's citizenship code, extracted from i94cit.\n",
    "- resident_code: 3 digit Visitor's country code of residence, extracted from i94res.\n",
    "- port_code: 3 digit port of entry code, extracted from i94port.\n",
    "- arrival_date: Date of arrival, converted from arrdate.\n",
    "- mode_code: 1 digit code of entry mode, extracted from i94mode.\n",
    "- address_state: The state where visitor stays? Extracted from i94addr.\n",
    "- departure_date: Departure date, converted from depdate.\n",
    "- age: Visitor's age, extracted from i94bir.\n",
    "- visa_code: 1 digit visa category code, extracted from i94visa.\n",
    "- birth_year: Visitor's birth year, extracted from biryear.\n",
    "- gender: Visitor's gender, extracted from gender.\n",
    "- airline_code: Airline code, extracted from airline.\n",
    "- admission_number: Admission number, extracted from admnum.\n",
    "- visa_type: Visa number, extracted from visatype.\n",
    "\n",
    "These irrelevant variables will be dropped from the i94 immigration dataset: \n",
    "\n",
    "i94yr, i94mon: duplicated to the year and month extracted from arrival date.\n",
    "count, dtadfile, visapost, entdepa, entdepd, entdepu, matflag, dtaddto, insnum, fltno: Information provded is unclear\n",
    "occup: too many missing values.\n",
    "\n",
    "\n",
    "\n",
    "\n",
    "Six dimension tables including airlines, ports, modes, countries, states, visas\n",
    "\n",
    "##### airlines   (Extracted from iata_airlines dataset)\n",
    "\n",
    "- iata_code: 2 digit IATA airpline code, extracted from IATADesignator.\n",
    "- airline_name: Airline name, extracted from AirlineName.\n",
    "- airline_country: Country of the airline, extracted from Country/Territory.\n",
    "\n",
    "These irrelevant variables will be dropped from the airlines dataset:\n",
    "\n",
    "3-DigitCode, ICAODesignator: other code information I don't need.\n",
    "\n",
    "##### ports     (Extracted from i94port dataset)\n",
    "\n",
    "- port_code: 3 digit port of entry code, extracted from START.\n",
    "- city: The city where Port of enry locates, extracted from city.\n",
    "- state: The state where Port of enry locates, extracted from state.\n",
    "\n",
    "##### modes     (Extracted from i94mode dataset)\n",
    "\n",
    "- mode_code: 1 digit mode of entry code, extracted from START.\n",
    "- mode: mode of entry, extracted from LABEL.\n",
    "\n",
    "##### countries     (Extracted from i94cit_res dataset)\n",
    "\n",
    "- country_code:  3 digit country code, extracted from START.\n",
    "- country: Country name, extracted from LABEL .    \n",
    "\n",
    "##### states     (Extracted from i94addr dataset)\n",
    "\n",
    "- address_state:  State abbreviation, extracted from START.\n",
    "- state: Full state name, extracted from LABEL.   \n",
    "\n",
    "##### visas     (Extracted from i94visa dataset)\n",
    "\n",
    "- visa_code:  1 digit visa category code, extracted from START.\n",
    "- visa: Visa category name, extracted from LABEL. \n",
    "\n",
    "\n",
    "#### 3.2 Mapping Out Data Pipelines\n",
    "List the steps necessary to pipeline the data into the chosen data model\n",
    "\n",
    "1. Run output_format.sas, generate FMTOUT.csv.\n",
    "2. Split FMTOUT.csv into multiple i94 code CSVs, clean these CSVs as well.\n",
    "3. Load the CSVs into Spark, clean the data if necessary, then select relevent columns.\n",
    "4. Run a quality check the dimension tables.\n",
    "5. Write all dimension tables to parquet file.\n",
    "6. Load the I94 immigration dataset into Spark, clean the data, then select relevent columns.\n",
    "7. Run a quality check the I94 immigration table, specially check the frequency of arrival date.\n",
    "8. Write the I94 immigration table to parquet file partitioned by the arrival year, month, day.\n",
    "\n"
   ]
  },
  {
   "cell_type": "markdown",
   "metadata": {
    "editable": true
   },
   "source": [
    "### Step 4: Run Pipelines to Model the Data \n",
    "#### 4.1 Create the data model\n",
    "Build the data pipelines to create the data model."
   ]
  },
  {
   "cell_type": "code",
   "execution_count": 51,
   "metadata": {
    "editable": true
   },
   "outputs": [],
   "source": [
    "#spark = SparkSession \\\n",
    "#        .builder \\\n",
    "#        .config(\"spark.jars.packages\", \"org.apache.hadoop:hadoop-aws:2.7.0\") \\\n",
    "#        .getOrCreate()"
   ]
  },
  {
   "cell_type": "code",
   "execution_count": 52,
   "metadata": {
    "editable": true
   },
   "outputs": [],
   "source": [
    "spark = SparkSession \\\n",
    "         .builder \\\n",
    "         .config(\"spark.jars.packages\",\"saurfang:spark-sas7bdat:2.0.0-s_2.11\") \\\n",
    "         .enableHiveSupport() \\\n",
    "         .getOrCreate()"
   ]
  },
  {
   "cell_type": "markdown",
   "metadata": {
    "editable": true
   },
   "source": [
    "#### I94 immigration"
   ]
  },
  {
   "cell_type": "code",
   "execution_count": 53,
   "metadata": {
    "editable": true
   },
   "outputs": [],
   "source": [
    "fname = '../../data/18-83510-I94-Data-2016/i94_apr16_sub.sas7bdat'\n",
    "i94 = spark.read.format('com.github.saurfang.sas.spark').load(fname)"
   ]
  },
  {
   "cell_type": "code",
   "execution_count": 54,
   "metadata": {
    "editable": true
   },
   "outputs": [
    {
     "data": {
      "text/plain": [
       "3096313"
      ]
     },
     "execution_count": 54,
     "metadata": {},
     "output_type": "execute_result"
    }
   ],
   "source": [
    "i94.count()"
   ]
  },
  {
   "cell_type": "code",
   "execution_count": 55,
   "metadata": {
    "editable": true
   },
   "outputs": [
    {
     "name": "stdout",
     "output_type": "stream",
     "text": [
      "root\n",
      " |-- cicid: double (nullable = true)\n",
      " |-- i94yr: double (nullable = true)\n",
      " |-- i94mon: double (nullable = true)\n",
      " |-- i94cit: double (nullable = true)\n",
      " |-- i94res: double (nullable = true)\n",
      " |-- i94port: string (nullable = true)\n",
      " |-- arrdate: double (nullable = true)\n",
      " |-- i94mode: double (nullable = true)\n",
      " |-- i94addr: string (nullable = true)\n",
      " |-- depdate: double (nullable = true)\n",
      " |-- i94bir: double (nullable = true)\n",
      " |-- i94visa: double (nullable = true)\n",
      " |-- count: double (nullable = true)\n",
      " |-- dtadfile: string (nullable = true)\n",
      " |-- visapost: string (nullable = true)\n",
      " |-- occup: string (nullable = true)\n",
      " |-- entdepa: string (nullable = true)\n",
      " |-- entdepd: string (nullable = true)\n",
      " |-- entdepu: string (nullable = true)\n",
      " |-- matflag: string (nullable = true)\n",
      " |-- biryear: double (nullable = true)\n",
      " |-- dtaddto: string (nullable = true)\n",
      " |-- gender: string (nullable = true)\n",
      " |-- insnum: string (nullable = true)\n",
      " |-- airline: string (nullable = true)\n",
      " |-- admnum: double (nullable = true)\n",
      " |-- fltno: string (nullable = true)\n",
      " |-- visatype: string (nullable = true)\n",
      "\n"
     ]
    }
   ],
   "source": [
    "i94.printSchema()"
   ]
  },
  {
   "cell_type": "code",
   "execution_count": 56,
   "metadata": {
    "editable": true
   },
   "outputs": [
    {
     "data": {
      "text/plain": [
       "DataFrame[summary: string, cicid: string, i94yr: string, i94mon: string, i94cit: string, i94res: string, i94port: string, arrdate: string, i94mode: string, i94addr: string, depdate: string, i94bir: string, i94visa: string, count: string, dtadfile: string, visapost: string, occup: string, entdepa: string, entdepd: string, entdepu: string, matflag: string, biryear: string, dtaddto: string, gender: string, insnum: string, airline: string, admnum: string, fltno: string, visatype: string]"
      ]
     },
     "execution_count": 56,
     "metadata": {},
     "output_type": "execute_result"
    }
   ],
   "source": [
    "i94.describe()"
   ]
  },
  {
   "cell_type": "code",
   "execution_count": 57,
   "metadata": {
    "editable": true
   },
   "outputs": [
    {
     "data": {
      "text/plain": [
       "[Row(cicid=6.0, i94yr=2016.0, i94mon=4.0, i94cit=692.0, i94res=692.0, i94port='XXX', arrdate=20573.0, i94mode=None, i94addr=None, depdate=None, i94bir=37.0, i94visa=2.0, count=1.0, dtadfile=None, visapost=None, occup=None, entdepa='T', entdepd=None, entdepu='U', matflag=None, biryear=1979.0, dtaddto='10282016', gender=None, insnum=None, airline=None, admnum=1897628485.0, fltno=None, visatype='B2'),\n",
       " Row(cicid=7.0, i94yr=2016.0, i94mon=4.0, i94cit=254.0, i94res=276.0, i94port='ATL', arrdate=20551.0, i94mode=1.0, i94addr='AL', depdate=None, i94bir=25.0, i94visa=3.0, count=1.0, dtadfile='20130811', visapost='SEO', occup=None, entdepa='G', entdepd=None, entdepu='Y', matflag=None, biryear=1991.0, dtaddto='D/S', gender='M', insnum=None, airline=None, admnum=3736796330.0, fltno='00296', visatype='F1'),\n",
       " Row(cicid=15.0, i94yr=2016.0, i94mon=4.0, i94cit=101.0, i94res=101.0, i94port='WAS', arrdate=20545.0, i94mode=1.0, i94addr='MI', depdate=20691.0, i94bir=55.0, i94visa=2.0, count=1.0, dtadfile='20160401', visapost=None, occup=None, entdepa='T', entdepd='O', entdepu=None, matflag='M', biryear=1961.0, dtaddto='09302016', gender='M', insnum=None, airline='OS', admnum=666643185.0, fltno='93', visatype='B2'),\n",
       " Row(cicid=16.0, i94yr=2016.0, i94mon=4.0, i94cit=101.0, i94res=101.0, i94port='NYC', arrdate=20545.0, i94mode=1.0, i94addr='MA', depdate=20567.0, i94bir=28.0, i94visa=2.0, count=1.0, dtadfile='20160401', visapost=None, occup=None, entdepa='O', entdepd='O', entdepu=None, matflag='M', biryear=1988.0, dtaddto='09302016', gender=None, insnum=None, airline='AA', admnum=92468461330.0, fltno='00199', visatype='B2'),\n",
       " Row(cicid=17.0, i94yr=2016.0, i94mon=4.0, i94cit=101.0, i94res=101.0, i94port='NYC', arrdate=20545.0, i94mode=1.0, i94addr='MA', depdate=20567.0, i94bir=4.0, i94visa=2.0, count=1.0, dtadfile='20160401', visapost=None, occup=None, entdepa='O', entdepd='O', entdepu=None, matflag='M', biryear=2012.0, dtaddto='09302016', gender=None, insnum=None, airline='AA', admnum=92468463130.0, fltno='00199', visatype='B2')]"
      ]
     },
     "execution_count": 57,
     "metadata": {},
     "output_type": "execute_result"
    }
   ],
   "source": [
    "i94.take(5)"
   ]
  },
  {
   "cell_type": "code",
   "execution_count": 58,
   "metadata": {
    "editable": true
   },
   "outputs": [],
   "source": [
    "# Calculate the arrival_date and departure_date\n",
    "get_day = udf(lambda x: datetime(1960,1,1) + timedelta(days=int(x)) if x!=None else np.nan)\n",
    "\n",
    "\n",
    "i94 = i94.withColumn(\"arrival_date\", get_day(i94.arrdate))\n",
    "i94 = i94.withColumn(\"departure_date\", get_day(i94.depdate))"
   ]
  },
  {
   "cell_type": "code",
   "execution_count": 59,
   "metadata": {
    "editable": true
   },
   "outputs": [
    {
     "name": "stdout",
     "output_type": "stream",
     "text": [
      "+-----+------+------+------+------+-------+-------+-------+-------+-------+------+-------+-----+--------+--------+-----+-------+-------+-------+-------+-------+--------+------+------+-------+-------------+-----+--------+--------------------+--------------+\n",
      "|cicid| i94yr|i94mon|i94cit|i94res|i94port|arrdate|i94mode|i94addr|depdate|i94bir|i94visa|count|dtadfile|visapost|occup|entdepa|entdepd|entdepu|matflag|biryear| dtaddto|gender|insnum|airline|       admnum|fltno|visatype|        arrival_date|departure_date|\n",
      "+-----+------+------+------+------+-------+-------+-------+-------+-------+------+-------+-----+--------+--------+-----+-------+-------+-------+-------+-------+--------+------+------+-------+-------------+-----+--------+--------------------+--------------+\n",
      "|  6.0|2016.0|   4.0| 692.0| 692.0|    XXX|20573.0|   null|   null|   null|  37.0|    2.0|  1.0|    null|    null| null|      T|   null|      U|   null| 1979.0|10282016|  null|  null|   null|1.897628485E9| null|      B2|java.util.Gregori...|           NaN|\n",
      "+-----+------+------+------+------+-------+-------+-------+-------+-------+------+-------+-----+--------+--------+-----+-------+-------+-------+-------+-------+--------+------+------+-------+-------------+-----+--------+--------------------+--------------+\n",
      "only showing top 1 row\n",
      "\n"
     ]
    }
   ],
   "source": [
    "i94.show(n=1)"
   ]
  },
  {
   "cell_type": "code",
   "execution_count": 63,
   "metadata": {
    "editable": true
   },
   "outputs": [],
   "source": [
    "i94.createOrReplaceTempView(\"i94_view\")\n",
    "\n",
    "i94_result = spark.sql(\"\"\" \n",
    "  select \n",
    "  \n",
    "  concat(string(int(i94yr)),'-',string(int(i94mon)),'-',string(int(cicid))) as id,\n",
    "  year(arrival_date) as year,\n",
    "  month(arrival_date) as month,\n",
    "  day(arrival_date) as day,\n",
    "  int(i94cit) as citizen_code,\n",
    "  int(i94res) as resident_code,\n",
    "  i94port as port_code,\n",
    "  arrival_date,\n",
    "  departure_date,\n",
    "  int(i94bir) as age,\n",
    "  int(i94visa) as visa_code,\n",
    "  int(biryear) as birth_year,\n",
    "  gender,\n",
    "  airline as airline_code,\n",
    "  int(admnum) as admission_number,\n",
    "  visatype as visa_type\n",
    "  \n",
    "  from i94_view\n",
    "\"\"\"\n",
    "  +\"\"\" TABLESAMPLE (.001 PERCENT)\"\"\"\n",
    ")  \n",
    "  \n"
   ]
  },
  {
   "cell_type": "code",
   "execution_count": 64,
   "metadata": {
    "editable": true
   },
   "outputs": [],
   "source": [
    "# write to parquet partitioned by year, month ,day\n",
    "output_data = \"data/\"\n",
    "i94_result.write.parquet(output_data+\"i94.parquet\",mode='overwrite',partitionBy=(\"year\", \"month\",\"day\"))"
   ]
  },
  {
   "cell_type": "code",
   "execution_count": 65,
   "metadata": {
    "editable": true
   },
   "outputs": [],
   "source": [
    "#test = spark.read.parquet('data/i94.parquet/year=__HIVE_DEFAULT_PARTITION__/month=__HIVE_DEFAULT_PARTITION__/day=__HIVE_DEFAULT_PARTITION__/part-00000-db8444a6-607d-44cf-81f0-07c9a628b510.c000.snappy.parquet')"
   ]
  },
  {
   "cell_type": "markdown",
   "metadata": {
    "editable": true
   },
   "source": [
    "#### airlines codes"
   ]
  },
  {
   "cell_type": "code",
   "execution_count": 66,
   "metadata": {
    "editable": true
   },
   "outputs": [],
   "source": [
    "fname = 'iata_airlines.csv'\n",
    "airlines = spark.read.csv(fname, header=True)"
   ]
  },
  {
   "cell_type": "code",
   "execution_count": 67,
   "metadata": {
    "editable": true
   },
   "outputs": [
    {
     "name": "stdout",
     "output_type": "stream",
     "text": [
      "+--------------------+--------------+-----------+--------------+------------------+\n",
      "|         AirlineName|IATADesignator|3-DigitCode|ICAODesignator| Country/Territory|\n",
      "+--------------------+--------------+-----------+--------------+------------------+\n",
      "|     Aegean Airlines|            A3|        390|           AEE|            Greece|\n",
      "|          Aer Lingus|            EI|        053|           EIN|           Ireland|\n",
      "|      Aero Republica|            P5|        845|           RPB|          Colombia|\n",
      "|            Aeroflot|            SU|        555|           AFL|Russian Federation|\n",
      "|Aerolineas Argent...|            AR|        044|           ARG|         Argentina|\n",
      "+--------------------+--------------+-----------+--------------+------------------+\n",
      "only showing top 5 rows\n",
      "\n"
     ]
    }
   ],
   "source": [
    "airlines.show(5)"
   ]
  },
  {
   "cell_type": "code",
   "execution_count": 68,
   "metadata": {
    "editable": true
   },
   "outputs": [],
   "source": [
    "airlines.createOrReplaceTempView(\"airlines_view\")\n",
    "\n",
    "result = spark.sql(\"\"\" \n",
    "  select \n",
    "  \n",
    "  IATADesignator as iata_code,\n",
    "  AirlineName as airline_name,\n",
    "  `Country/Territory` as airline_country\n",
    "  \n",
    "  from airlines_view \n",
    " \n",
    "\"\"\")  \n",
    "  "
   ]
  },
  {
   "cell_type": "code",
   "execution_count": 69,
   "metadata": {
    "editable": true
   },
   "outputs": [],
   "source": [
    "output_data = \"data/\"\n",
    "result.write.parquet(output_data+\"airlines.parquet\",mode='overwrite')"
   ]
  },
  {
   "cell_type": "markdown",
   "metadata": {
    "editable": true
   },
   "source": [
    "#### ports"
   ]
  },
  {
   "cell_type": "code",
   "execution_count": 70,
   "metadata": {
    "editable": true
   },
   "outputs": [],
   "source": [
    "fname = 'i94port.csv'\n",
    "ports = spark.read.csv(fname, header=True)"
   ]
  },
  {
   "cell_type": "code",
   "execution_count": 71,
   "metadata": {
    "editable": true
   },
   "outputs": [],
   "source": [
    "ports.createOrReplaceTempView(\"ports_view\")\n",
    "\n",
    "result = spark.sql(\"\"\" \n",
    "  select distinct\n",
    "  \n",
    "  START as port_code,\n",
    "  city,\n",
    "  state\n",
    "  \n",
    "  from ports_view\n",
    " \n",
    "\"\"\")  "
   ]
  },
  {
   "cell_type": "code",
   "execution_count": 72,
   "metadata": {
    "editable": true
   },
   "outputs": [],
   "source": [
    "output_data = \"data/\"\n",
    "result.write.parquet(output_data+\"ports.parquet\",mode='overwrite')"
   ]
  },
  {
   "cell_type": "markdown",
   "metadata": {
    "editable": true
   },
   "source": [
    "#### modes"
   ]
  },
  {
   "cell_type": "code",
   "execution_count": 75,
   "metadata": {
    "editable": true
   },
   "outputs": [],
   "source": [
    "fname = 'i94mode.csv'\n",
    "modes = spark.read.csv(fname, header=True)"
   ]
  },
  {
   "cell_type": "code",
   "execution_count": 76,
   "metadata": {
    "editable": true
   },
   "outputs": [],
   "source": [
    "modes.createOrReplaceTempView(\"modes_view\")\n",
    "\n",
    "result = spark.sql(\"\"\" \n",
    "  select distinct\n",
    "  \n",
    "  START as mode_code,\n",
    "  LABEL as mode\n",
    "  \n",
    "  from modes_view\n",
    " \n",
    "\"\"\")  "
   ]
  },
  {
   "cell_type": "code",
   "execution_count": 77,
   "metadata": {
    "editable": true
   },
   "outputs": [],
   "source": [
    "output_data = \"data/\"\n",
    "result.write.parquet(output_data+\"modes.parquet\",mode='overwrite')"
   ]
  },
  {
   "cell_type": "markdown",
   "metadata": {
    "editable": true
   },
   "source": [
    "#### countries"
   ]
  },
  {
   "cell_type": "code",
   "execution_count": 78,
   "metadata": {
    "editable": true
   },
   "outputs": [],
   "source": [
    "fname = 'i94cit_res.csv'\n",
    "countries = spark.read.csv(fname, header=True)\n",
    "\n",
    "countries.createOrReplaceTempView(\"countries_view\")\n",
    "\n",
    "result = spark.sql(\"\"\" \n",
    "  select distinct\n",
    "  \n",
    "  START as country_code,\n",
    "  LABEL as country\n",
    "  \n",
    "  from countries_view\n",
    " \n",
    "\"\"\") \n",
    "\n",
    "output_data = \"data/\"\n",
    "result.write.parquet(output_data+\"countries.parquet\",mode='overwrite')"
   ]
  },
  {
   "cell_type": "markdown",
   "metadata": {
    "editable": true
   },
   "source": [
    "#### states"
   ]
  },
  {
   "cell_type": "code",
   "execution_count": 79,
   "metadata": {
    "editable": true
   },
   "outputs": [],
   "source": [
    "fname = 'i94addr.csv'\n",
    "states = spark.read.csv(fname, header=True)\n",
    "\n",
    "states.createOrReplaceTempView(\"states_view\")\n",
    "\n",
    "result = spark.sql(\"\"\" \n",
    "  select distinct\n",
    "  \n",
    "  START as address_state,\n",
    "  LABEL as state\n",
    "  \n",
    "  from states_view\n",
    " \n",
    "\"\"\") \n",
    "\n",
    "output_data = \"data/\"\n",
    "result.write.parquet(output_data+\"states.parquet\",mode='overwrite')"
   ]
  },
  {
   "cell_type": "markdown",
   "metadata": {
    "editable": true
   },
   "source": [
    "#### visas"
   ]
  },
  {
   "cell_type": "code",
   "execution_count": 80,
   "metadata": {
    "editable": true
   },
   "outputs": [],
   "source": [
    "fname = 'i94visa.csv'\n",
    "visas = spark.read.csv(fname, header=True)\n",
    "\n",
    "visas.createOrReplaceTempView(\"visas_view\")\n",
    "\n",
    "result = spark.sql(\"\"\" \n",
    "  select distinct\n",
    "  \n",
    "  START as visa_code,\n",
    "  LABEL as visa\n",
    "  \n",
    "  from visas_view\n",
    " \n",
    "\"\"\") \n",
    "\n",
    "output_data = \"data/\"\n",
    "result.write.parquet(output_data+\"visas.parquet\",mode='overwrite')"
   ]
  },
  {
   "cell_type": "markdown",
   "metadata": {
    "editable": true
   },
   "source": [
    "#### 4.2 Data Quality Checks\n",
    "Explain the data quality checks you'll perform to ensure the pipeline ran as expected. These could include:\n",
    " * Integrity constraints on the relational database (e.g., unique key, data type, etc.)\n",
    " * Unit tests for the scripts to ensure they are doing the right thing\n",
    " * Source/Count checks to ensure completeness\n",
    " \n",
    "Run Quality Checks"
   ]
  },
  {
   "cell_type": "code",
   "execution_count": 81,
   "metadata": {
    "editable": true
   },
   "outputs": [
    {
     "name": "stdout",
     "output_type": "stream",
     "text": [
      "+--------------------+--------+\n",
      "|        arrival_date|count(1)|\n",
      "+--------------------+--------+\n",
      "|java.util.Gregori...|       2|\n",
      "|java.util.Gregori...|       3|\n",
      "|java.util.Gregori...|       1|\n",
      "|java.util.Gregori...|       2|\n",
      "|java.util.Gregori...|       1|\n",
      "|java.util.Gregori...|       2|\n",
      "|java.util.Gregori...|       3|\n",
      "|java.util.Gregori...|       1|\n",
      "|java.util.Gregori...|       1|\n",
      "|java.util.Gregori...|       1|\n",
      "|java.util.Gregori...|       2|\n",
      "|java.util.Gregori...|       3|\n",
      "|java.util.Gregori...|       2|\n",
      "|java.util.Gregori...|       3|\n",
      "|java.util.Gregori...|       3|\n",
      "|java.util.Gregori...|       3|\n",
      "|java.util.Gregori...|       2|\n",
      "|java.util.Gregori...|       2|\n",
      "|java.util.Gregori...|       4|\n",
      "|java.util.Gregori...|       1|\n",
      "+--------------------+--------+\n",
      "only showing top 20 rows\n",
      "\n"
     ]
    }
   ],
   "source": [
    "# Perform quality checks here\n",
    "# Check the frequency of arrival date, we expect the number of visitors is close to evenly distributed for each day in a month\n",
    "\n",
    "i94_result.createOrReplaceTempView(\"i94_view\")\n",
    "\n",
    "result = spark.sql(\"\"\" \n",
    "  select arrival_date, count(*)\n",
    "  from i94_view\n",
    "  group by arrival_date order by arrival_date\n",
    " \n",
    "\"\"\")\n",
    "result.show()"
   ]
  },
  {
   "cell_type": "code",
   "execution_count": 82,
   "metadata": {
    "editable": true
   },
   "outputs": [
    {
     "data": {
      "text/plain": [
       "[Row(arrival_date='java.util.GregorianCalendar[time=?,areFieldsSet=false,areAllFieldsSet=false,lenient=true,zone=sun.util.calendar.ZoneInfo[id=\"Etc/UTC\",offset=0,dstSavings=0,useDaylight=false,transitions=0,lastRule=null],firstDayOfWeek=1,minimalDaysInFirstWeek=1,ERA=?,YEAR=2016,MONTH=3,WEEK_OF_YEAR=?,WEEK_OF_MONTH=?,DAY_OF_MONTH=1,DAY_OF_YEAR=?,DAY_OF_WEEK=?,DAY_OF_WEEK_IN_MONTH=?,AM_PM=0,HOUR=0,HOUR_OF_DAY=0,MINUTE=0,SECOND=0,MILLISECOND=0,ZONE_OFFSET=?,DST_OFFSET=?]', count(1)=2),\n",
       " Row(arrival_date='java.util.GregorianCalendar[time=?,areFieldsSet=false,areAllFieldsSet=false,lenient=true,zone=sun.util.calendar.ZoneInfo[id=\"Etc/UTC\",offset=0,dstSavings=0,useDaylight=false,transitions=0,lastRule=null],firstDayOfWeek=1,minimalDaysInFirstWeek=1,ERA=?,YEAR=2016,MONTH=3,WEEK_OF_YEAR=?,WEEK_OF_MONTH=?,DAY_OF_MONTH=10,DAY_OF_YEAR=?,DAY_OF_WEEK=?,DAY_OF_WEEK_IN_MONTH=?,AM_PM=0,HOUR=0,HOUR_OF_DAY=0,MINUTE=0,SECOND=0,MILLISECOND=0,ZONE_OFFSET=?,DST_OFFSET=?]', count(1)=3),\n",
       " Row(arrival_date='java.util.GregorianCalendar[time=?,areFieldsSet=false,areAllFieldsSet=false,lenient=true,zone=sun.util.calendar.ZoneInfo[id=\"Etc/UTC\",offset=0,dstSavings=0,useDaylight=false,transitions=0,lastRule=null],firstDayOfWeek=1,minimalDaysInFirstWeek=1,ERA=?,YEAR=2016,MONTH=3,WEEK_OF_YEAR=?,WEEK_OF_MONTH=?,DAY_OF_MONTH=11,DAY_OF_YEAR=?,DAY_OF_WEEK=?,DAY_OF_WEEK_IN_MONTH=?,AM_PM=0,HOUR=0,HOUR_OF_DAY=0,MINUTE=0,SECOND=0,MILLISECOND=0,ZONE_OFFSET=?,DST_OFFSET=?]', count(1)=1),\n",
       " Row(arrival_date='java.util.GregorianCalendar[time=?,areFieldsSet=false,areAllFieldsSet=false,lenient=true,zone=sun.util.calendar.ZoneInfo[id=\"Etc/UTC\",offset=0,dstSavings=0,useDaylight=false,transitions=0,lastRule=null],firstDayOfWeek=1,minimalDaysInFirstWeek=1,ERA=?,YEAR=2016,MONTH=3,WEEK_OF_YEAR=?,WEEK_OF_MONTH=?,DAY_OF_MONTH=12,DAY_OF_YEAR=?,DAY_OF_WEEK=?,DAY_OF_WEEK_IN_MONTH=?,AM_PM=0,HOUR=0,HOUR_OF_DAY=0,MINUTE=0,SECOND=0,MILLISECOND=0,ZONE_OFFSET=?,DST_OFFSET=?]', count(1)=2),\n",
       " Row(arrival_date='java.util.GregorianCalendar[time=?,areFieldsSet=false,areAllFieldsSet=false,lenient=true,zone=sun.util.calendar.ZoneInfo[id=\"Etc/UTC\",offset=0,dstSavings=0,useDaylight=false,transitions=0,lastRule=null],firstDayOfWeek=1,minimalDaysInFirstWeek=1,ERA=?,YEAR=2016,MONTH=3,WEEK_OF_YEAR=?,WEEK_OF_MONTH=?,DAY_OF_MONTH=13,DAY_OF_YEAR=?,DAY_OF_WEEK=?,DAY_OF_WEEK_IN_MONTH=?,AM_PM=0,HOUR=0,HOUR_OF_DAY=0,MINUTE=0,SECOND=0,MILLISECOND=0,ZONE_OFFSET=?,DST_OFFSET=?]', count(1)=1),\n",
       " Row(arrival_date='java.util.GregorianCalendar[time=?,areFieldsSet=false,areAllFieldsSet=false,lenient=true,zone=sun.util.calendar.ZoneInfo[id=\"Etc/UTC\",offset=0,dstSavings=0,useDaylight=false,transitions=0,lastRule=null],firstDayOfWeek=1,minimalDaysInFirstWeek=1,ERA=?,YEAR=2016,MONTH=3,WEEK_OF_YEAR=?,WEEK_OF_MONTH=?,DAY_OF_MONTH=14,DAY_OF_YEAR=?,DAY_OF_WEEK=?,DAY_OF_WEEK_IN_MONTH=?,AM_PM=0,HOUR=0,HOUR_OF_DAY=0,MINUTE=0,SECOND=0,MILLISECOND=0,ZONE_OFFSET=?,DST_OFFSET=?]', count(1)=2),\n",
       " Row(arrival_date='java.util.GregorianCalendar[time=?,areFieldsSet=false,areAllFieldsSet=false,lenient=true,zone=sun.util.calendar.ZoneInfo[id=\"Etc/UTC\",offset=0,dstSavings=0,useDaylight=false,transitions=0,lastRule=null],firstDayOfWeek=1,minimalDaysInFirstWeek=1,ERA=?,YEAR=2016,MONTH=3,WEEK_OF_YEAR=?,WEEK_OF_MONTH=?,DAY_OF_MONTH=15,DAY_OF_YEAR=?,DAY_OF_WEEK=?,DAY_OF_WEEK_IN_MONTH=?,AM_PM=0,HOUR=0,HOUR_OF_DAY=0,MINUTE=0,SECOND=0,MILLISECOND=0,ZONE_OFFSET=?,DST_OFFSET=?]', count(1)=3),\n",
       " Row(arrival_date='java.util.GregorianCalendar[time=?,areFieldsSet=false,areAllFieldsSet=false,lenient=true,zone=sun.util.calendar.ZoneInfo[id=\"Etc/UTC\",offset=0,dstSavings=0,useDaylight=false,transitions=0,lastRule=null],firstDayOfWeek=1,minimalDaysInFirstWeek=1,ERA=?,YEAR=2016,MONTH=3,WEEK_OF_YEAR=?,WEEK_OF_MONTH=?,DAY_OF_MONTH=16,DAY_OF_YEAR=?,DAY_OF_WEEK=?,DAY_OF_WEEK_IN_MONTH=?,AM_PM=0,HOUR=0,HOUR_OF_DAY=0,MINUTE=0,SECOND=0,MILLISECOND=0,ZONE_OFFSET=?,DST_OFFSET=?]', count(1)=1),\n",
       " Row(arrival_date='java.util.GregorianCalendar[time=?,areFieldsSet=false,areAllFieldsSet=false,lenient=true,zone=sun.util.calendar.ZoneInfo[id=\"Etc/UTC\",offset=0,dstSavings=0,useDaylight=false,transitions=0,lastRule=null],firstDayOfWeek=1,minimalDaysInFirstWeek=1,ERA=?,YEAR=2016,MONTH=3,WEEK_OF_YEAR=?,WEEK_OF_MONTH=?,DAY_OF_MONTH=17,DAY_OF_YEAR=?,DAY_OF_WEEK=?,DAY_OF_WEEK_IN_MONTH=?,AM_PM=0,HOUR=0,HOUR_OF_DAY=0,MINUTE=0,SECOND=0,MILLISECOND=0,ZONE_OFFSET=?,DST_OFFSET=?]', count(1)=1),\n",
       " Row(arrival_date='java.util.GregorianCalendar[time=?,areFieldsSet=false,areAllFieldsSet=false,lenient=true,zone=sun.util.calendar.ZoneInfo[id=\"Etc/UTC\",offset=0,dstSavings=0,useDaylight=false,transitions=0,lastRule=null],firstDayOfWeek=1,minimalDaysInFirstWeek=1,ERA=?,YEAR=2016,MONTH=3,WEEK_OF_YEAR=?,WEEK_OF_MONTH=?,DAY_OF_MONTH=18,DAY_OF_YEAR=?,DAY_OF_WEEK=?,DAY_OF_WEEK_IN_MONTH=?,AM_PM=0,HOUR=0,HOUR_OF_DAY=0,MINUTE=0,SECOND=0,MILLISECOND=0,ZONE_OFFSET=?,DST_OFFSET=?]', count(1)=1),\n",
       " Row(arrival_date='java.util.GregorianCalendar[time=?,areFieldsSet=false,areAllFieldsSet=false,lenient=true,zone=sun.util.calendar.ZoneInfo[id=\"Etc/UTC\",offset=0,dstSavings=0,useDaylight=false,transitions=0,lastRule=null],firstDayOfWeek=1,minimalDaysInFirstWeek=1,ERA=?,YEAR=2016,MONTH=3,WEEK_OF_YEAR=?,WEEK_OF_MONTH=?,DAY_OF_MONTH=2,DAY_OF_YEAR=?,DAY_OF_WEEK=?,DAY_OF_WEEK_IN_MONTH=?,AM_PM=0,HOUR=0,HOUR_OF_DAY=0,MINUTE=0,SECOND=0,MILLISECOND=0,ZONE_OFFSET=?,DST_OFFSET=?]', count(1)=2),\n",
       " Row(arrival_date='java.util.GregorianCalendar[time=?,areFieldsSet=false,areAllFieldsSet=false,lenient=true,zone=sun.util.calendar.ZoneInfo[id=\"Etc/UTC\",offset=0,dstSavings=0,useDaylight=false,transitions=0,lastRule=null],firstDayOfWeek=1,minimalDaysInFirstWeek=1,ERA=?,YEAR=2016,MONTH=3,WEEK_OF_YEAR=?,WEEK_OF_MONTH=?,DAY_OF_MONTH=20,DAY_OF_YEAR=?,DAY_OF_WEEK=?,DAY_OF_WEEK_IN_MONTH=?,AM_PM=0,HOUR=0,HOUR_OF_DAY=0,MINUTE=0,SECOND=0,MILLISECOND=0,ZONE_OFFSET=?,DST_OFFSET=?]', count(1)=3),\n",
       " Row(arrival_date='java.util.GregorianCalendar[time=?,areFieldsSet=false,areAllFieldsSet=false,lenient=true,zone=sun.util.calendar.ZoneInfo[id=\"Etc/UTC\",offset=0,dstSavings=0,useDaylight=false,transitions=0,lastRule=null],firstDayOfWeek=1,minimalDaysInFirstWeek=1,ERA=?,YEAR=2016,MONTH=3,WEEK_OF_YEAR=?,WEEK_OF_MONTH=?,DAY_OF_MONTH=21,DAY_OF_YEAR=?,DAY_OF_WEEK=?,DAY_OF_WEEK_IN_MONTH=?,AM_PM=0,HOUR=0,HOUR_OF_DAY=0,MINUTE=0,SECOND=0,MILLISECOND=0,ZONE_OFFSET=?,DST_OFFSET=?]', count(1)=2),\n",
       " Row(arrival_date='java.util.GregorianCalendar[time=?,areFieldsSet=false,areAllFieldsSet=false,lenient=true,zone=sun.util.calendar.ZoneInfo[id=\"Etc/UTC\",offset=0,dstSavings=0,useDaylight=false,transitions=0,lastRule=null],firstDayOfWeek=1,minimalDaysInFirstWeek=1,ERA=?,YEAR=2016,MONTH=3,WEEK_OF_YEAR=?,WEEK_OF_MONTH=?,DAY_OF_MONTH=22,DAY_OF_YEAR=?,DAY_OF_WEEK=?,DAY_OF_WEEK_IN_MONTH=?,AM_PM=0,HOUR=0,HOUR_OF_DAY=0,MINUTE=0,SECOND=0,MILLISECOND=0,ZONE_OFFSET=?,DST_OFFSET=?]', count(1)=3),\n",
       " Row(arrival_date='java.util.GregorianCalendar[time=?,areFieldsSet=false,areAllFieldsSet=false,lenient=true,zone=sun.util.calendar.ZoneInfo[id=\"Etc/UTC\",offset=0,dstSavings=0,useDaylight=false,transitions=0,lastRule=null],firstDayOfWeek=1,minimalDaysInFirstWeek=1,ERA=?,YEAR=2016,MONTH=3,WEEK_OF_YEAR=?,WEEK_OF_MONTH=?,DAY_OF_MONTH=23,DAY_OF_YEAR=?,DAY_OF_WEEK=?,DAY_OF_WEEK_IN_MONTH=?,AM_PM=0,HOUR=0,HOUR_OF_DAY=0,MINUTE=0,SECOND=0,MILLISECOND=0,ZONE_OFFSET=?,DST_OFFSET=?]', count(1)=3),\n",
       " Row(arrival_date='java.util.GregorianCalendar[time=?,areFieldsSet=false,areAllFieldsSet=false,lenient=true,zone=sun.util.calendar.ZoneInfo[id=\"Etc/UTC\",offset=0,dstSavings=0,useDaylight=false,transitions=0,lastRule=null],firstDayOfWeek=1,minimalDaysInFirstWeek=1,ERA=?,YEAR=2016,MONTH=3,WEEK_OF_YEAR=?,WEEK_OF_MONTH=?,DAY_OF_MONTH=24,DAY_OF_YEAR=?,DAY_OF_WEEK=?,DAY_OF_WEEK_IN_MONTH=?,AM_PM=0,HOUR=0,HOUR_OF_DAY=0,MINUTE=0,SECOND=0,MILLISECOND=0,ZONE_OFFSET=?,DST_OFFSET=?]', count(1)=3),\n",
       " Row(arrival_date='java.util.GregorianCalendar[time=?,areFieldsSet=false,areAllFieldsSet=false,lenient=true,zone=sun.util.calendar.ZoneInfo[id=\"Etc/UTC\",offset=0,dstSavings=0,useDaylight=false,transitions=0,lastRule=null],firstDayOfWeek=1,minimalDaysInFirstWeek=1,ERA=?,YEAR=2016,MONTH=3,WEEK_OF_YEAR=?,WEEK_OF_MONTH=?,DAY_OF_MONTH=28,DAY_OF_YEAR=?,DAY_OF_WEEK=?,DAY_OF_WEEK_IN_MONTH=?,AM_PM=0,HOUR=0,HOUR_OF_DAY=0,MINUTE=0,SECOND=0,MILLISECOND=0,ZONE_OFFSET=?,DST_OFFSET=?]', count(1)=2),\n",
       " Row(arrival_date='java.util.GregorianCalendar[time=?,areFieldsSet=false,areAllFieldsSet=false,lenient=true,zone=sun.util.calendar.ZoneInfo[id=\"Etc/UTC\",offset=0,dstSavings=0,useDaylight=false,transitions=0,lastRule=null],firstDayOfWeek=1,minimalDaysInFirstWeek=1,ERA=?,YEAR=2016,MONTH=3,WEEK_OF_YEAR=?,WEEK_OF_MONTH=?,DAY_OF_MONTH=29,DAY_OF_YEAR=?,DAY_OF_WEEK=?,DAY_OF_WEEK_IN_MONTH=?,AM_PM=0,HOUR=0,HOUR_OF_DAY=0,MINUTE=0,SECOND=0,MILLISECOND=0,ZONE_OFFSET=?,DST_OFFSET=?]', count(1)=2),\n",
       " Row(arrival_date='java.util.GregorianCalendar[time=?,areFieldsSet=false,areAllFieldsSet=false,lenient=true,zone=sun.util.calendar.ZoneInfo[id=\"Etc/UTC\",offset=0,dstSavings=0,useDaylight=false,transitions=0,lastRule=null],firstDayOfWeek=1,minimalDaysInFirstWeek=1,ERA=?,YEAR=2016,MONTH=3,WEEK_OF_YEAR=?,WEEK_OF_MONTH=?,DAY_OF_MONTH=30,DAY_OF_YEAR=?,DAY_OF_WEEK=?,DAY_OF_WEEK_IN_MONTH=?,AM_PM=0,HOUR=0,HOUR_OF_DAY=0,MINUTE=0,SECOND=0,MILLISECOND=0,ZONE_OFFSET=?,DST_OFFSET=?]', count(1)=4),\n",
       " Row(arrival_date='java.util.GregorianCalendar[time=?,areFieldsSet=false,areAllFieldsSet=false,lenient=true,zone=sun.util.calendar.ZoneInfo[id=\"Etc/UTC\",offset=0,dstSavings=0,useDaylight=false,transitions=0,lastRule=null],firstDayOfWeek=1,minimalDaysInFirstWeek=1,ERA=?,YEAR=2016,MONTH=3,WEEK_OF_YEAR=?,WEEK_OF_MONTH=?,DAY_OF_MONTH=4,DAY_OF_YEAR=?,DAY_OF_WEEK=?,DAY_OF_WEEK_IN_MONTH=?,AM_PM=0,HOUR=0,HOUR_OF_DAY=0,MINUTE=0,SECOND=0,MILLISECOND=0,ZONE_OFFSET=?,DST_OFFSET=?]', count(1)=1),\n",
       " Row(arrival_date='java.util.GregorianCalendar[time=?,areFieldsSet=false,areAllFieldsSet=false,lenient=true,zone=sun.util.calendar.ZoneInfo[id=\"Etc/UTC\",offset=0,dstSavings=0,useDaylight=false,transitions=0,lastRule=null],firstDayOfWeek=1,minimalDaysInFirstWeek=1,ERA=?,YEAR=2016,MONTH=3,WEEK_OF_YEAR=?,WEEK_OF_MONTH=?,DAY_OF_MONTH=6,DAY_OF_YEAR=?,DAY_OF_WEEK=?,DAY_OF_WEEK_IN_MONTH=?,AM_PM=0,HOUR=0,HOUR_OF_DAY=0,MINUTE=0,SECOND=0,MILLISECOND=0,ZONE_OFFSET=?,DST_OFFSET=?]', count(1)=2),\n",
       " Row(arrival_date='java.util.GregorianCalendar[time=?,areFieldsSet=false,areAllFieldsSet=false,lenient=true,zone=sun.util.calendar.ZoneInfo[id=\"Etc/UTC\",offset=0,dstSavings=0,useDaylight=false,transitions=0,lastRule=null],firstDayOfWeek=1,minimalDaysInFirstWeek=1,ERA=?,YEAR=2016,MONTH=3,WEEK_OF_YEAR=?,WEEK_OF_MONTH=?,DAY_OF_MONTH=7,DAY_OF_YEAR=?,DAY_OF_WEEK=?,DAY_OF_WEEK_IN_MONTH=?,AM_PM=0,HOUR=0,HOUR_OF_DAY=0,MINUTE=0,SECOND=0,MILLISECOND=0,ZONE_OFFSET=?,DST_OFFSET=?]', count(1)=3),\n",
       " Row(arrival_date='java.util.GregorianCalendar[time=?,areFieldsSet=false,areAllFieldsSet=false,lenient=true,zone=sun.util.calendar.ZoneInfo[id=\"Etc/UTC\",offset=0,dstSavings=0,useDaylight=false,transitions=0,lastRule=null],firstDayOfWeek=1,minimalDaysInFirstWeek=1,ERA=?,YEAR=2016,MONTH=3,WEEK_OF_YEAR=?,WEEK_OF_MONTH=?,DAY_OF_MONTH=8,DAY_OF_YEAR=?,DAY_OF_WEEK=?,DAY_OF_WEEK_IN_MONTH=?,AM_PM=0,HOUR=0,HOUR_OF_DAY=0,MINUTE=0,SECOND=0,MILLISECOND=0,ZONE_OFFSET=?,DST_OFFSET=?]', count(1)=1)]"
      ]
     },
     "execution_count": 82,
     "metadata": {},
     "output_type": "execute_result"
    }
   ],
   "source": [
    "result.collect()"
   ]
  },
  {
   "cell_type": "code",
   "execution_count": 83,
   "metadata": {
    "editable": true
   },
   "outputs": [
    {
     "data": {
      "text/plain": [
       "'java.util.GregorianCalendar[time=?,areFieldsSet=false,areAllFieldsSet=false,lenient=true,zone=sun.util.calendar.ZoneInfo[id=\"Etc/UTC\",offset=0,dstSavings=0,useDaylight=false,transitions=0,lastRule=null],firstDayOfWeek=1,minimalDaysInFirstWeek=1,ERA=?,YEAR=2016,MONTH=3,WEEK_OF_YEAR=?,WEEK_OF_MONTH=?,DAY_OF_MONTH=1,DAY_OF_YEAR=?,DAY_OF_WEEK=?,DAY_OF_WEEK_IN_MONTH=?,AM_PM=0,HOUR=0,HOUR_OF_DAY=0,MINUTE=0,SECOND=0,MILLISECOND=0,ZONE_OFFSET=?,DST_OFFSET=?]'"
      ]
     },
     "execution_count": 83,
     "metadata": {},
     "output_type": "execute_result"
    }
   ],
   "source": [
    "result2 = result.collect()\n",
    "result2[0][0]"
   ]
  },
  {
   "cell_type": "code",
   "execution_count": 84,
   "metadata": {
    "editable": true
   },
   "outputs": [
    {
     "name": "stdout",
     "output_type": "stream",
     "text": [
      "2016-4-1: 2\n",
      "2016-4-10: 3\n",
      "2016-4-11: 1\n",
      "2016-4-12: 2\n",
      "2016-4-13: 1\n",
      "2016-4-14: 2\n",
      "2016-4-15: 3\n",
      "2016-4-16: 1\n",
      "2016-4-17: 1\n",
      "2016-4-18: 1\n",
      "2016-4-2: 2\n",
      "2016-4-20: 3\n",
      "2016-4-21: 2\n",
      "2016-4-22: 3\n",
      "2016-4-23: 3\n",
      "2016-4-24: 3\n",
      "2016-4-28: 2\n",
      "2016-4-29: 2\n",
      "2016-4-30: 4\n",
      "2016-4-4: 1\n",
      "2016-4-6: 2\n",
      "2016-4-7: 3\n",
      "2016-4-8: 1\n"
     ]
    }
   ],
   "source": [
    "# Let's make a better view for this frequency table.\n",
    "for line in result2:\n",
    "    mdy = re.findall('YEAR=(\\d+).+MONTH=(\\d+).+DAY_OF_MONTH=(\\d+)',line[0],flags=0)\n",
    "    count= line[1]\n",
    "    year = mdy[0][0]\n",
    "    month = str(int(mdy[0][1])+1)\n",
    "    day = mdy[0][2]\n",
    "    \n",
    "    print(f\"{year}-{month}-{day}: {count}\")"
   ]
  },
  {
   "cell_type": "code",
   "execution_count": 85,
   "metadata": {
    "editable": true
   },
   "outputs": [],
   "source": [
    "#re.findall('YEAR=(\\d+).+MONTH=(\\d+).+DAY_OF_MONTH=(\\d+)',result2[0][0],flags=0)"
   ]
  },
  {
   "cell_type": "code",
   "execution_count": 86,
   "metadata": {
    "editable": true
   },
   "outputs": [
    {
     "name": "stdout",
     "output_type": "stream",
     "text": [
      "+--------+\n",
      "|count(1)|\n",
      "+--------+\n",
      "|       0|\n",
      "+--------+\n",
      "\n"
     ]
    }
   ],
   "source": [
    "i94_result.createOrReplaceTempView(\"i94_view\")\n",
    "\n",
    "result2 = spark.sql(\"\"\" \n",
    "  select count(*) \n",
    "  from i94_view TABLESAMPLE (.01 PERCENT)\n",
    " \n",
    "\"\"\")\n",
    "result2.show()"
   ]
  },
  {
   "cell_type": "markdown",
   "metadata": {
    "editable": true
   },
   "source": [
    "#### 4.3 Data dictionary \n",
    "Create a data dictionary for your data model. For each field, provide a brief description of what the data is and where it came from. You can include the data dictionary in the notebook or in a separate file."
   ]
  },
  {
   "cell_type": "markdown",
   "metadata": {
    "editable": true
   },
   "source": [
    "#### Step 5: Complete Project Write Up\n",
    "\n",
    "#### Clearly state the rationale for the choice of tools and technologies for the project.\n",
    "\n",
    "- Stored the project data in the cloud based Amazon S3, which has high performance and scalability, as well as easier connected with other AWS tools.\n",
    "\n",
    "- Spark is chosen to perform massive parallel data processing.\n",
    "\n",
    "- Python is being used in every step, because Python has powerful open source packages, which enable data analysis and manipulation, as well as a complete API access to various platforms, such as Spark, AWS, Linux. \n",
    "\n",
    "- The ETL process will be run on Amazon EMR, a clouded based cluster that has Hadoop/Spark pre-installed, can be easily running the analysis script without worrying the cluster's configuration. Also, a better connection performance with its own storage product S3 where we store the raw data.\n",
    "\n",
    "\n",
    "\n",
    "####  Propose how often the data should be updated and why.\n",
    "\n",
    "- Assumed the data is being collected monthly in SAS format, hence it's reasonable to update the data monthly. In fact, the data processing ETL on the cloud just takes a few minutes to be finished. \n",
    "\n",
    "\n",
    "#### Write a description of how you would approach the problem differently under the following scenarios:\n",
    "\n",
    "\n",
    "#### The data was increased by 100x.\n",
    " \n",
    "- This can refer to a scenario that we need to process 10 years of I94 Immigration data. As Spark can be used on massive parallel processing, as long as we increase the number of nodes by hiring more machines when deploying to EMR, this problem will be resolved. Currently I use 4 notes on EMR, if I increase the note number to 40, the performance will increase likely 10x.  \n",
    " \n",
    "#### The data populates a dashboard that must be updated on a daily basis by 7am every day.\n",
    " \n",
    "- The ELT pipeline can be done in a few minutes, there is enough time to review the job workflow and report everyday. It should not be a problem running the workflow everyday.\n",
    " \n",
    "#### The database needed to be accessed by 100+ people.\n",
    " \n",
    "- Assumed these people just make a query to the S3 occasionally, then we can consider using Amazon Athena. It allows users to perform SQL query on the S3 data. Athena API has a limit number of calls varying from 5 to 100 per second depended on the API name being called, can burst up to 10 to 200 calls per second. I think it's reasonable for the capacity of a hundred users.   "
   ]
  },
  {
   "cell_type": "code",
   "execution_count": null,
   "metadata": {
    "editable": true
   },
   "outputs": [],
   "source": []
  },
  {
   "cell_type": "code",
   "execution_count": null,
   "metadata": {
    "editable": true
   },
   "outputs": [],
   "source": []
  },
  {
   "cell_type": "code",
   "execution_count": null,
   "metadata": {
    "editable": true
   },
   "outputs": [],
   "source": []
  },
  {
   "cell_type": "code",
   "execution_count": null,
   "metadata": {
    "editable": true
   },
   "outputs": [],
   "source": []
  },
  {
   "cell_type": "code",
   "execution_count": null,
   "metadata": {
    "editable": true
   },
   "outputs": [],
   "source": []
  },
  {
   "cell_type": "code",
   "execution_count": null,
   "metadata": {
    "editable": true
   },
   "outputs": [],
   "source": []
  }
 ],
 "metadata": {
  "kernelspec": {
   "display_name": "Python 3",
   "language": "python",
   "name": "python3"
  },
  "language_info": {
   "codemirror_mode": {
    "name": "ipython",
    "version": 3
   },
   "file_extension": ".py",
   "mimetype": "text/x-python",
   "name": "python",
   "nbconvert_exporter": "python",
   "pygments_lexer": "ipython3",
   "version": "3.6.3"
  }
 },
 "nbformat": 4,
 "nbformat_minor": 4
}
